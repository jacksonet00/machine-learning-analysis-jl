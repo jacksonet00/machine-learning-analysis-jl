{
 "cells": [
  {
   "cell_type": "code",
   "execution_count": 1,
   "metadata": {},
   "outputs": [
    {
     "name": "stderr",
     "output_type": "stream",
     "text": [
      "┌ Warning: Module model_selection has been ported to Julia - try `import ScikitLearn: CrossValidation` instead\n",
      "└ @ ScikitLearn.Skcore /Users/jackson/.julia/packages/ScikitLearn/NJwUf/src/Skcore.jl:179\n"
     ]
    },
    {
     "data": {
      "text/plain": [
       "PyObject <class 'sklearn.neural_network._multilayer_perceptron.MLPClassifier'>"
      ]
     },
     "execution_count": 1,
     "metadata": {},
     "output_type": "execute_result"
    }
   ],
   "source": [
    "# Import dependencies\n",
    "using ScikitLearn, CSV, DataFrames\n",
    "@sk_import preprocessing: LabelEncoder\n",
    "@sk_import model_selection: train_test_split\n",
    "@sk_import naive_bayes: CategoricalNB\n",
    "@sk_import metrics: accuracy_score\n",
    "@sk_import tree: DecisionTreeClassifier\n",
    "@sk_import svm: SVC\n",
    "@sk_import neural_network: MLPClassifier"
   ]
  },
  {
   "cell_type": "markdown",
   "metadata": {},
   "source": [
    "# Car Eval Dataset\n",
    "## ETL"
   ]
  },
  {
   "cell_type": "code",
   "execution_count": 2,
   "metadata": {},
   "outputs": [
    {
     "data": {
      "text/html": [
       "<table class=\"data-frame\"><thead><tr><th></th><th>buying</th><th>maint</th><th>doors</th><th>persons</th><th>lug_boot</th><th>safety</th><th>class</th></tr><tr><th></th><th>String</th><th>String</th><th>String</th><th>String</th><th>String</th><th>String</th><th>String</th></tr></thead><tbody><p>5 rows × 7 columns</p><tr><th>1</th><td>vhigh</td><td>vhigh</td><td>2</td><td>2</td><td>small</td><td>low</td><td>unacc</td></tr><tr><th>2</th><td>vhigh</td><td>vhigh</td><td>2</td><td>2</td><td>small</td><td>med</td><td>unacc</td></tr><tr><th>3</th><td>vhigh</td><td>vhigh</td><td>2</td><td>2</td><td>small</td><td>high</td><td>unacc</td></tr><tr><th>4</th><td>vhigh</td><td>vhigh</td><td>2</td><td>2</td><td>med</td><td>low</td><td>unacc</td></tr><tr><th>5</th><td>vhigh</td><td>vhigh</td><td>2</td><td>2</td><td>med</td><td>med</td><td>unacc</td></tr></tbody></table>"
      ],
      "text/latex": [
       "\\begin{tabular}{r|ccccccc}\n",
       "\t& buying & maint & doors & persons & lug\\_boot & safety & class\\\\\n",
       "\t\\hline\n",
       "\t& String & String & String & String & String & String & String\\\\\n",
       "\t\\hline\n",
       "\t1 & vhigh & vhigh & 2 & 2 & small & low & unacc \\\\\n",
       "\t2 & vhigh & vhigh & 2 & 2 & small & med & unacc \\\\\n",
       "\t3 & vhigh & vhigh & 2 & 2 & small & high & unacc \\\\\n",
       "\t4 & vhigh & vhigh & 2 & 2 & med & low & unacc \\\\\n",
       "\t5 & vhigh & vhigh & 2 & 2 & med & med & unacc \\\\\n",
       "\\end{tabular}\n"
      ],
      "text/plain": [
       "\u001b[1m5×7 DataFrame\u001b[0m\n",
       "\u001b[1m Row \u001b[0m│\u001b[1m buying \u001b[0m\u001b[1m maint  \u001b[0m\u001b[1m doors  \u001b[0m\u001b[1m persons \u001b[0m\u001b[1m lug_boot \u001b[0m\u001b[1m safety \u001b[0m\u001b[1m class  \u001b[0m\n",
       "\u001b[1m     \u001b[0m│\u001b[90m String \u001b[0m\u001b[90m String \u001b[0m\u001b[90m String \u001b[0m\u001b[90m String  \u001b[0m\u001b[90m String   \u001b[0m\u001b[90m String \u001b[0m\u001b[90m String \u001b[0m\n",
       "─────┼───────────────────────────────────────────────────────────\n",
       "   1 │ vhigh   vhigh   2       2        small     low     unacc\n",
       "   2 │ vhigh   vhigh   2       2        small     med     unacc\n",
       "   3 │ vhigh   vhigh   2       2        small     high    unacc\n",
       "   4 │ vhigh   vhigh   2       2        med       low     unacc\n",
       "   5 │ vhigh   vhigh   2       2        med       med     unacc"
      ]
     },
     "execution_count": 2,
     "metadata": {},
     "output_type": "execute_result"
    }
   ],
   "source": [
    "# Read car data csv into DataFrame\n",
    "car_columns = [\"buying\", \"maint\", \"doors\", \"persons\", \"lug_boot\", \"safety\", \"class\"]\n",
    "car_df = CSV.File(\"./data/car.data\", header=car_columns) |> DataFrame\n",
    "first(car_df, 5)"
   ]
  },
  {
   "cell_type": "code",
   "execution_count": 3,
   "metadata": {},
   "outputs": [
    {
     "data": {
      "text/html": [
       "<table class=\"data-frame\"><thead><tr><th></th><th>buying</th><th>maint</th><th>doors</th><th>persons</th><th>lug_boot</th><th>safety</th><th>class</th></tr><tr><th></th><th>Int64</th><th>Int64</th><th>Int64</th><th>Int64</th><th>Int64</th><th>Int64</th><th>Int64</th></tr></thead><tbody><p>5 rows × 7 columns</p><tr><th>1</th><td>3</td><td>3</td><td>0</td><td>0</td><td>2</td><td>1</td><td>2</td></tr><tr><th>2</th><td>3</td><td>3</td><td>0</td><td>0</td><td>2</td><td>2</td><td>2</td></tr><tr><th>3</th><td>3</td><td>3</td><td>0</td><td>0</td><td>2</td><td>0</td><td>2</td></tr><tr><th>4</th><td>3</td><td>3</td><td>0</td><td>0</td><td>1</td><td>1</td><td>2</td></tr><tr><th>5</th><td>3</td><td>3</td><td>0</td><td>0</td><td>1</td><td>2</td><td>2</td></tr></tbody></table>"
      ],
      "text/latex": [
       "\\begin{tabular}{r|ccccccc}\n",
       "\t& buying & maint & doors & persons & lug\\_boot & safety & class\\\\\n",
       "\t\\hline\n",
       "\t& Int64 & Int64 & Int64 & Int64 & Int64 & Int64 & Int64\\\\\n",
       "\t\\hline\n",
       "\t1 & 3 & 3 & 0 & 0 & 2 & 1 & 2 \\\\\n",
       "\t2 & 3 & 3 & 0 & 0 & 2 & 2 & 2 \\\\\n",
       "\t3 & 3 & 3 & 0 & 0 & 2 & 0 & 2 \\\\\n",
       "\t4 & 3 & 3 & 0 & 0 & 1 & 1 & 2 \\\\\n",
       "\t5 & 3 & 3 & 0 & 0 & 1 & 2 & 2 \\\\\n",
       "\\end{tabular}\n"
      ],
      "text/plain": [
       "\u001b[1m5×7 DataFrame\u001b[0m\n",
       "\u001b[1m Row \u001b[0m│\u001b[1m buying \u001b[0m\u001b[1m maint \u001b[0m\u001b[1m doors \u001b[0m\u001b[1m persons \u001b[0m\u001b[1m lug_boot \u001b[0m\u001b[1m safety \u001b[0m\u001b[1m class \u001b[0m\n",
       "\u001b[1m     \u001b[0m│\u001b[90m Int64  \u001b[0m\u001b[90m Int64 \u001b[0m\u001b[90m Int64 \u001b[0m\u001b[90m Int64   \u001b[0m\u001b[90m Int64    \u001b[0m\u001b[90m Int64  \u001b[0m\u001b[90m Int64 \u001b[0m\n",
       "─────┼────────────────────────────────────────────────────────\n",
       "   1 │      3      3      0        0         2       1      2\n",
       "   2 │      3      3      0        0         2       2      2\n",
       "   3 │      3      3      0        0         2       0      2\n",
       "   4 │      3      3      0        0         1       1      2\n",
       "   5 │      3      3      0        0         1       2      2"
      ]
     },
     "execution_count": 3,
     "metadata": {},
     "output_type": "execute_result"
    }
   ],
   "source": [
    "# Encode values for car data\n",
    "le = LabelEncoder()\n",
    "for col in car_columns\n",
    "    car_df[!,col] = le.fit_transform(car_df[!,col])\n",
    "end\n",
    "first(car_df, 5)"
   ]
  },
  {
   "cell_type": "markdown",
   "metadata": {},
   "source": [
    "## Data Preprocessing"
   ]
  },
  {
   "cell_type": "code",
   "execution_count": 4,
   "metadata": {},
   "outputs": [],
   "source": [
    "# Feature and Label extraction\n",
    "X_features = convert(Array, car_df[:,[1, 2, 3, 4, 5, 6]]);\n",
    "y_labels = convert(Array, car_df[:, 7]);"
   ]
  },
  {
   "cell_type": "code",
   "execution_count": 5,
   "metadata": {},
   "outputs": [],
   "source": [
    "# Split data into testing and training subsets\n",
    "X_train, X_test, y_train, y_test = train_test_split(X_features, y_labels, test_size=0.3, random_state=100);"
   ]
  },
  {
   "cell_type": "markdown",
   "metadata": {},
   "source": [
    "## Model Testing"
   ]
  },
  {
   "cell_type": "code",
   "execution_count": 9,
   "metadata": {},
   "outputs": [
    {
     "name": "stdout",
     "output_type": "stream",
     "text": [
      "Naive Bayesian Classifier Accuracy: 85.5%\n"
     ]
    }
   ],
   "source": [
    "# Naive Bayesian Classifier\n",
    "nb_car_model = CategoricalNB()\n",
    "fit!(nb_car_model, X_train, y_train)\n",
    "nb_car_accuracy = accuracy_score(predict(nb_car_model, X_test), y_test)\n",
    "println(\"Naive Bayesian Classifier Accuracy: $(round(nb_car_accuracy * 100, digits=1))%\")"
   ]
  },
  {
   "cell_type": "code",
   "execution_count": 10,
   "metadata": {},
   "outputs": [
    {
     "name": "stdout",
     "output_type": "stream",
     "text": [
      "Decision Tree Classifier Accuracy: 97.7%\n"
     ]
    }
   ],
   "source": [
    "# Decision Tree Classifier\n",
    "tree_car_model = DecisionTreeClassifier()\n",
    "fit!(tree_car_model, X_train, y_train)\n",
    "tree_car_accuracy = accuracy_score(predict(tree_car_model, X_test), y_test)\n",
    "println(\"Decision Tree Classifier Accuracy: $(round(tree_car_accuracy * 100, digits=1))%\")"
   ]
  },
  {
   "cell_type": "code",
   "execution_count": 11,
   "metadata": {},
   "outputs": [
    {
     "name": "stdout",
     "output_type": "stream",
     "text": [
      "Support Vector Machine Accuracy: 93.1%\n"
     ]
    }
   ],
   "source": [
    "# Support Vector Machine\n",
    "svm_car_model = SVC()\n",
    "fit!(svm_car_model, X_train, y_train)\n",
    "svm_car_accuracy = accuracy_score(predict(svm_car_model, X_test), y_test)\n",
    "println(\"Support Vector Machine Accuracy: $(round(svm_car_accuracy * 100, digits=1))%\")"
   ]
  },
  {
   "cell_type": "code",
   "execution_count": 12,
   "metadata": {},
   "outputs": [
    {
     "name": "stdout",
     "output_type": "stream",
     "text": [
      "Neural Network Accuracy: 97.9%\n"
     ]
    }
   ],
   "source": [
    "# Neural Network\n",
    "nn_car_model = MLPClassifier(max_iter=1000)\n",
    "fit!(nn_car_model, X_train, y_train)\n",
    "nn_car_accuracy = accuracy_score(predict(nn_car_model, X_test), y_test)\n",
    "println(\"Neural Network Accuracy: $(round(nn_car_accuracy * 100, digits=1))%\")"
   ]
  },
  {
   "cell_type": "code",
   "execution_count": null,
   "metadata": {},
   "outputs": [],
   "source": []
  }
 ],
 "metadata": {
  "kernelspec": {
   "display_name": "Julia 1.5.3",
   "language": "julia",
   "name": "julia-1.5"
  },
  "language_info": {
   "file_extension": ".jl",
   "mimetype": "application/julia",
   "name": "julia",
   "version": "1.5.3"
  }
 },
 "nbformat": 4,
 "nbformat_minor": 4
}
