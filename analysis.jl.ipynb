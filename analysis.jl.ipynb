{
 "cells": [
  {
   "cell_type": "markdown",
   "metadata": {},
   "source": [
    "# Dependencies"
   ]
  },
  {
   "cell_type": "code",
   "execution_count": 1,
   "metadata": {},
   "outputs": [],
   "source": [
    "using ScikitLearn, CSV, DataFrames, PyCall;\n",
    "@sk_import preprocessing: LabelEncoder;\n",
    "@sk_import naive_bayes: (CategoricalNB, GaussianNB);\n",
    "@sk_import metrics: accuracy_score;\n",
    "@sk_import tree: DecisionTreeClassifier;\n",
    "@sk_import svm: SVC;\n",
    "@sk_import neural_network: MLPClassifier;\n",
    "@sk_import feature_selection: (SelectKBest, chi2);"
   ]
  },
  {
   "cell_type": "code",
   "execution_count": 2,
   "metadata": {},
   "outputs": [],
   "source": [
    "train_test_split = ScikitLearn.CrossValidation.train_test_split;\n",
    "le = LabelEncoder();\n",
    "pickle = pyimport(\"pickle\");"
   ]
  },
  {
   "cell_type": "markdown",
   "metadata": {},
   "source": [
    "# Car Eval Data Set\n",
    "## ETL"
   ]
  },
  {
   "cell_type": "code",
   "execution_count": 3,
   "metadata": {},
   "outputs": [
    {
     "data": {
      "text/html": [
       "<table class=\"data-frame\"><thead><tr><th></th><th>buying</th><th>maint</th><th>doors</th><th>persons</th><th>lug_boot</th><th>safety</th><th>class</th></tr><tr><th></th><th>String</th><th>String</th><th>String</th><th>String</th><th>String</th><th>String</th><th>String</th></tr></thead><tbody><p>5 rows × 7 columns</p><tr><th>1</th><td>vhigh</td><td>vhigh</td><td>2</td><td>2</td><td>small</td><td>low</td><td>unacc</td></tr><tr><th>2</th><td>vhigh</td><td>vhigh</td><td>2</td><td>2</td><td>small</td><td>med</td><td>unacc</td></tr><tr><th>3</th><td>vhigh</td><td>vhigh</td><td>2</td><td>2</td><td>small</td><td>high</td><td>unacc</td></tr><tr><th>4</th><td>vhigh</td><td>vhigh</td><td>2</td><td>2</td><td>med</td><td>low</td><td>unacc</td></tr><tr><th>5</th><td>vhigh</td><td>vhigh</td><td>2</td><td>2</td><td>med</td><td>med</td><td>unacc</td></tr></tbody></table>"
      ],
      "text/latex": [
       "\\begin{tabular}{r|ccccccc}\n",
       "\t& buying & maint & doors & persons & lug\\_boot & safety & class\\\\\n",
       "\t\\hline\n",
       "\t& String & String & String & String & String & String & String\\\\\n",
       "\t\\hline\n",
       "\t1 & vhigh & vhigh & 2 & 2 & small & low & unacc \\\\\n",
       "\t2 & vhigh & vhigh & 2 & 2 & small & med & unacc \\\\\n",
       "\t3 & vhigh & vhigh & 2 & 2 & small & high & unacc \\\\\n",
       "\t4 & vhigh & vhigh & 2 & 2 & med & low & unacc \\\\\n",
       "\t5 & vhigh & vhigh & 2 & 2 & med & med & unacc \\\\\n",
       "\\end{tabular}\n"
      ],
      "text/plain": [
       "\u001b[1m5×7 DataFrame\u001b[0m\n",
       "\u001b[1m Row \u001b[0m│\u001b[1m buying \u001b[0m\u001b[1m maint  \u001b[0m\u001b[1m doors  \u001b[0m\u001b[1m persons \u001b[0m\u001b[1m lug_boot \u001b[0m\u001b[1m safety \u001b[0m\u001b[1m class  \u001b[0m\n",
       "\u001b[1m     \u001b[0m│\u001b[90m String \u001b[0m\u001b[90m String \u001b[0m\u001b[90m String \u001b[0m\u001b[90m String  \u001b[0m\u001b[90m String   \u001b[0m\u001b[90m String \u001b[0m\u001b[90m String \u001b[0m\n",
       "─────┼───────────────────────────────────────────────────────────\n",
       "   1 │ vhigh   vhigh   2       2        small     low     unacc\n",
       "   2 │ vhigh   vhigh   2       2        small     med     unacc\n",
       "   3 │ vhigh   vhigh   2       2        small     high    unacc\n",
       "   4 │ vhigh   vhigh   2       2        med       low     unacc\n",
       "   5 │ vhigh   vhigh   2       2        med       med     unacc"
      ]
     },
     "execution_count": 3,
     "metadata": {},
     "output_type": "execute_result"
    }
   ],
   "source": [
    "# Read car data csv into DataFrame\n",
    "car_columns = [\"buying\", \"maint\", \"doors\", \"persons\", \"lug_boot\", \"safety\", \"class\"];\n",
    "car_df = CSV.File(\"./data/car.data\", header=car_columns) |> DataFrame;\n",
    "first(car_df, 5)"
   ]
  },
  {
   "cell_type": "markdown",
   "metadata": {},
   "source": [
    "## Preprocessing"
   ]
  },
  {
   "cell_type": "code",
   "execution_count": 4,
   "metadata": {},
   "outputs": [
    {
     "data": {
      "text/html": [
       "<table class=\"data-frame\"><thead><tr><th></th><th>buying</th><th>maint</th><th>doors</th><th>persons</th><th>lug_boot</th><th>safety</th><th>class</th></tr><tr><th></th><th>Int64</th><th>Int64</th><th>Int64</th><th>Int64</th><th>Int64</th><th>Int64</th><th>Int64</th></tr></thead><tbody><p>5 rows × 7 columns</p><tr><th>1</th><td>3</td><td>3</td><td>0</td><td>0</td><td>2</td><td>1</td><td>2</td></tr><tr><th>2</th><td>3</td><td>3</td><td>0</td><td>0</td><td>2</td><td>2</td><td>2</td></tr><tr><th>3</th><td>3</td><td>3</td><td>0</td><td>0</td><td>2</td><td>0</td><td>2</td></tr><tr><th>4</th><td>3</td><td>3</td><td>0</td><td>0</td><td>1</td><td>1</td><td>2</td></tr><tr><th>5</th><td>3</td><td>3</td><td>0</td><td>0</td><td>1</td><td>2</td><td>2</td></tr></tbody></table>"
      ],
      "text/latex": [
       "\\begin{tabular}{r|ccccccc}\n",
       "\t& buying & maint & doors & persons & lug\\_boot & safety & class\\\\\n",
       "\t\\hline\n",
       "\t& Int64 & Int64 & Int64 & Int64 & Int64 & Int64 & Int64\\\\\n",
       "\t\\hline\n",
       "\t1 & 3 & 3 & 0 & 0 & 2 & 1 & 2 \\\\\n",
       "\t2 & 3 & 3 & 0 & 0 & 2 & 2 & 2 \\\\\n",
       "\t3 & 3 & 3 & 0 & 0 & 2 & 0 & 2 \\\\\n",
       "\t4 & 3 & 3 & 0 & 0 & 1 & 1 & 2 \\\\\n",
       "\t5 & 3 & 3 & 0 & 0 & 1 & 2 & 2 \\\\\n",
       "\\end{tabular}\n"
      ],
      "text/plain": [
       "\u001b[1m5×7 DataFrame\u001b[0m\n",
       "\u001b[1m Row \u001b[0m│\u001b[1m buying \u001b[0m\u001b[1m maint \u001b[0m\u001b[1m doors \u001b[0m\u001b[1m persons \u001b[0m\u001b[1m lug_boot \u001b[0m\u001b[1m safety \u001b[0m\u001b[1m class \u001b[0m\n",
       "\u001b[1m     \u001b[0m│\u001b[90m Int64  \u001b[0m\u001b[90m Int64 \u001b[0m\u001b[90m Int64 \u001b[0m\u001b[90m Int64   \u001b[0m\u001b[90m Int64    \u001b[0m\u001b[90m Int64  \u001b[0m\u001b[90m Int64 \u001b[0m\n",
       "─────┼────────────────────────────────────────────────────────\n",
       "   1 │      3      3      0        0         2       1      2\n",
       "   2 │      3      3      0        0         2       2      2\n",
       "   3 │      3      3      0        0         2       0      2\n",
       "   4 │      3      3      0        0         1       1      2\n",
       "   5 │      3      3      0        0         1       2      2"
      ]
     },
     "execution_count": 4,
     "metadata": {},
     "output_type": "execute_result"
    }
   ],
   "source": [
    "# Encode values for car data\n",
    "for col in car_columns\n",
    "    car_df[!,col] = le.fit_transform(car_df[!,col]);\n",
    "end\n",
    "first(car_df, 5)"
   ]
  },
  {
   "cell_type": "code",
   "execution_count": 5,
   "metadata": {},
   "outputs": [],
   "source": [
    "# Feature and Label extraction\n",
    "car_X = convert(Array, car_df[:,1:6]);\n",
    "car_y = convert(Array, car_df[:, 7]);"
   ]
  },
  {
   "cell_type": "code",
   "execution_count": 6,
   "metadata": {},
   "outputs": [],
   "source": [
    "# Split data into testing and training subsets\n",
    "car_X_train, car_X_test, car_y_train, car_y_test = train_test_split(car_X, car_y, test_size=0.3, random_state=100);"
   ]
  },
  {
   "cell_type": "markdown",
   "metadata": {},
   "source": [
    "## Model Testing"
   ]
  },
  {
   "cell_type": "code",
   "execution_count": 7,
   "metadata": {},
   "outputs": [
    {
     "name": "stdout",
     "output_type": "stream",
     "text": [
      "  0.034393 seconds (45.01 k allocations: 2.378 MiB)\n",
      "  0.014342 seconds (28.78 k allocations: 1.558 MiB)\n",
      "Naive Bayesian Classifier Accuracy: 85.5%\n"
     ]
    }
   ],
   "source": [
    "# Naive Bayesian Classifier\n",
    "nb_car_model = CategoricalNB();\n",
    "@time fit!(nb_car_model, car_X_train, car_y_train);\n",
    "@time nb_car_predictions = predict(nb_car_model, car_X_test);\n",
    "nb_car_accuracy = accuracy_score(nb_car_predictions, car_y_test);\n",
    "println(\"Naive Bayesian Classifier Accuracy: $(round(nb_car_accuracy * 100, digits=1))%\");\n",
    "io = open(\"./model/nb_car_model.sav\", \"w\");\n",
    "pickle.dump(nb_car_model, io);\n",
    "close(io);"
   ]
  },
  {
   "cell_type": "code",
   "execution_count": 8,
   "metadata": {},
   "outputs": [
    {
     "name": "stdout",
     "output_type": "stream",
     "text": [
      "  0.001249 seconds (21 allocations: 1.109 KiB)\n",
      "  0.000344 seconds (36 allocations: 5.875 KiB)\n",
      "Decision Tree Classifier Accuracy: 98.1%\n"
     ]
    }
   ],
   "source": [
    "# Decision Tree Classifier\n",
    "tree_car_model = DecisionTreeClassifier();\n",
    "@time fit!(tree_car_model, car_X_train, car_y_train);\n",
    "@time tree_car_predictions = predict(tree_car_model, car_X_test);\n",
    "tree_car_accuracy = accuracy_score(tree_car_predictions, car_y_test);\n",
    "println(\"Decision Tree Classifier Accuracy: $(round(tree_car_accuracy * 100, digits=1))%\");\n",
    "io = open(\"./model/tree_car_model.sav\", \"w\");\n",
    "pickle.dump(tree_car_model, io);\n",
    "close(io);"
   ]
  },
  {
   "cell_type": "code",
   "execution_count": 9,
   "metadata": {},
   "outputs": [
    {
     "name": "stdout",
     "output_type": "stream",
     "text": [
      "  0.056278 seconds (21 allocations: 1.109 KiB)\n",
      "  0.035555 seconds (36 allocations: 5.875 KiB)\n",
      "Support Vector Machine Accuracy: 93.1%\n"
     ]
    }
   ],
   "source": [
    "# Support Vector Machine\n",
    "svm_car_model = SVC();\n",
    "@time fit!(svm_car_model, car_X_train, car_y_train);\n",
    "@time svm_car_predictions = predict(svm_car_model, car_X_test);\n",
    "svm_car_accuracy = accuracy_score(svm_car_predictions, car_y_test);\n",
    "println(\"Support Vector Machine Accuracy: $(round(svm_car_accuracy * 100, digits=1))%\");\n",
    "io = open(\"./model/svm_car_model.sav\", \"w\");\n",
    "pickle.dump(svm_car_model, io);\n",
    "close(io);"
   ]
  },
  {
   "cell_type": "code",
   "execution_count": 10,
   "metadata": {},
   "outputs": [
    {
     "name": "stdout",
     "output_type": "stream",
     "text": [
      "  2.823061 seconds (21 allocations: 1.109 KiB)\n",
      "  0.000854 seconds (36 allocations: 5.875 KiB)\n",
      "Neural Network Accuracy: 97.3%\n"
     ]
    }
   ],
   "source": [
    "# Neural Network\n",
    "nn_car_model = MLPClassifier(max_iter=1000);\n",
    "@time fit!(nn_car_model, car_X_train, car_y_train);\n",
    "@time nn_car_predictions = predict(nn_car_model, car_X_test);\n",
    "nn_car_accuracy = accuracy_score(nn_car_predictions, car_y_test);\n",
    "println(\"Neural Network Accuracy: $(round(nn_car_accuracy * 100, digits=1))%\");\n",
    "io = open(\"./model/nn_car_model.sav\", \"w\");\n",
    "pickle.dump(nn_car_model, io);\n",
    "close(io);"
   ]
  },
  {
   "cell_type": "markdown",
   "metadata": {},
   "source": [
    "# Abalone Data Set\n",
    "## ETL"
   ]
  },
  {
   "cell_type": "code",
   "execution_count": 11,
   "metadata": {},
   "outputs": [
    {
     "data": {
      "text/html": [
       "<table class=\"data-frame\"><thead><tr><th></th><th>sex</th><th>length</th><th>diameter</th><th>height</th><th>whole_weight</th><th>shucked_weight</th><th>viscera_weight</th></tr><tr><th></th><th>String</th><th>Float64</th><th>Float64</th><th>Float64</th><th>Float64</th><th>Float64</th><th>Float64</th></tr></thead><tbody><p>5 rows × 9 columns (omitted printing of 2 columns)</p><tr><th>1</th><td>M</td><td>0.455</td><td>0.365</td><td>0.095</td><td>0.514</td><td>0.2245</td><td>0.101</td></tr><tr><th>2</th><td>M</td><td>0.35</td><td>0.265</td><td>0.09</td><td>0.2255</td><td>0.0995</td><td>0.0485</td></tr><tr><th>3</th><td>F</td><td>0.53</td><td>0.42</td><td>0.135</td><td>0.677</td><td>0.2565</td><td>0.1415</td></tr><tr><th>4</th><td>M</td><td>0.44</td><td>0.365</td><td>0.125</td><td>0.516</td><td>0.2155</td><td>0.114</td></tr><tr><th>5</th><td>I</td><td>0.33</td><td>0.255</td><td>0.08</td><td>0.205</td><td>0.0895</td><td>0.0395</td></tr></tbody></table>"
      ],
      "text/latex": [
       "\\begin{tabular}{r|cccccccc}\n",
       "\t& sex & length & diameter & height & whole\\_weight & shucked\\_weight & viscera\\_weight & \\\\\n",
       "\t\\hline\n",
       "\t& String & Float64 & Float64 & Float64 & Float64 & Float64 & Float64 & \\\\\n",
       "\t\\hline\n",
       "\t1 & M & 0.455 & 0.365 & 0.095 & 0.514 & 0.2245 & 0.101 & $\\dots$ \\\\\n",
       "\t2 & M & 0.35 & 0.265 & 0.09 & 0.2255 & 0.0995 & 0.0485 & $\\dots$ \\\\\n",
       "\t3 & F & 0.53 & 0.42 & 0.135 & 0.677 & 0.2565 & 0.1415 & $\\dots$ \\\\\n",
       "\t4 & M & 0.44 & 0.365 & 0.125 & 0.516 & 0.2155 & 0.114 & $\\dots$ \\\\\n",
       "\t5 & I & 0.33 & 0.255 & 0.08 & 0.205 & 0.0895 & 0.0395 & $\\dots$ \\\\\n",
       "\\end{tabular}\n"
      ],
      "text/plain": [
       "\u001b[1m5×9 DataFrame\u001b[0m\n",
       "\u001b[1m Row \u001b[0m│\u001b[1m sex    \u001b[0m\u001b[1m length  \u001b[0m\u001b[1m diameter \u001b[0m\u001b[1m height  \u001b[0m\u001b[1m whole_weight \u001b[0m\u001b[1m shucked_weight \u001b[0m\u001b[1m visce\u001b[0m ⋯\n",
       "\u001b[1m     \u001b[0m│\u001b[90m String \u001b[0m\u001b[90m Float64 \u001b[0m\u001b[90m Float64  \u001b[0m\u001b[90m Float64 \u001b[0m\u001b[90m Float64      \u001b[0m\u001b[90m Float64        \u001b[0m\u001b[90m Float\u001b[0m ⋯\n",
       "─────┼──────────────────────────────────────────────────────────────────────────\n",
       "   1 │ M         0.455     0.365    0.095        0.514           0.2245        ⋯\n",
       "   2 │ M         0.35      0.265    0.09         0.2255          0.0995\n",
       "   3 │ F         0.53      0.42     0.135        0.677           0.2565\n",
       "   4 │ M         0.44      0.365    0.125        0.516           0.2155\n",
       "   5 │ I         0.33      0.255    0.08         0.205           0.0895        ⋯\n",
       "\u001b[36m                                                               3 columns omitted\u001b[0m"
      ]
     },
     "execution_count": 11,
     "metadata": {},
     "output_type": "execute_result"
    }
   ],
   "source": [
    "# Read abalone data csv into DataFrame\n",
    "abalone_columns = [\"sex\", \"length\", \"diameter\", \"height\", \"whole_weight\", \"shucked_weight\", \"viscera_weight\", \"shell_weight\", \"rings\"];\n",
    "abalone_df = CSV.File(\"./data/abalone.data\", header=abalone_columns) |> DataFrame;\n",
    "first(abalone_df, 5)"
   ]
  },
  {
   "cell_type": "markdown",
   "metadata": {},
   "source": [
    "## Preprocessing"
   ]
  },
  {
   "cell_type": "code",
   "execution_count": 12,
   "metadata": {},
   "outputs": [],
   "source": [
    "# Encode sex\n",
    "abalone_df[!,:sex] = le.fit_transform(abalone_df[!,:sex]);\n",
    "first(abalone_df, 5);"
   ]
  },
  {
   "cell_type": "code",
   "execution_count": 13,
   "metadata": {},
   "outputs": [],
   "source": [
    "# Categorize rings into 3 groups based on age\n",
    "index = 1;\n",
    "for ring in abalone_df[!,:rings]\n",
    "    age = ring + 1.5;\n",
    "    if 1 < age < 9\n",
    "        abalone_df[index,:rings] = 1;\n",
    "    elseif age < 10\n",
    "        abalone_df[index,:rings] = 2;\n",
    "    else\n",
    "        abalone_df[index,:rings] = 3;\n",
    "    end\n",
    "    index += 1;\n",
    "end"
   ]
  },
  {
   "cell_type": "code",
   "execution_count": 14,
   "metadata": {},
   "outputs": [],
   "source": [
    "# Feature and label extraction\n",
    "abalone_X_features = convert(Array, abalone_df[:,1:8]);\n",
    "abalone_y_labels = convert(Array, abalone_df[:, 9]);"
   ]
  },
  {
   "cell_type": "code",
   "execution_count": 15,
   "metadata": {},
   "outputs": [],
   "source": [
    "# Split data into testing and training subsets\n",
    "abalone_X_train, abalone_X_test, abalone_y_train, abalone_y_test = train_test_split(abalone_X_features, abalone_y_labels, test_size=0.3);"
   ]
  },
  {
   "cell_type": "markdown",
   "metadata": {},
   "source": [
    "## Model Testing"
   ]
  },
  {
   "cell_type": "code",
   "execution_count": 16,
   "metadata": {},
   "outputs": [
    {
     "name": "stdout",
     "output_type": "stream",
     "text": [
      "  0.019388 seconds (35.37 k allocations: 1.882 MiB)\n",
      "  0.017520 seconds (28.43 k allocations: 1.538 MiB)\n",
      "Naive Bayesian Classifier Accuracy: 67.9%\n"
     ]
    }
   ],
   "source": [
    "# Naive Bayesian Classifier\n",
    "nb_abalone_model = GaussianNB();\n",
    "@time fit!(nb_abalone_model, abalone_X_train, abalone_y_train);\n",
    "@time nb_abalone_predictions = predict(nb_abalone_model, abalone_X_test);\n",
    "nb_abalone_accuracy = accuracy_score(nb_abalone_predictions, abalone_y_test);\n",
    "println(\"Naive Bayesian Classifier Accuracy: $(round(nb_abalone_accuracy * 100, digits=1))%\");\n",
    "io = open(\"./model/nb_abalone_model.sav\", \"w\");\n",
    "pickle.dump(nb_abalone_model, io);\n",
    "close(io);"
   ]
  },
  {
   "cell_type": "code",
   "execution_count": 17,
   "metadata": {},
   "outputs": [
    {
     "name": "stdout",
     "output_type": "stream",
     "text": [
      "  0.013147 seconds (21 allocations: 1.109 KiB)\n",
      "  0.000452 seconds (36 allocations: 11.625 KiB)\n",
      "Decision Tree Classifier Accuracy: 73.5%\n"
     ]
    }
   ],
   "source": [
    "# Decision Tree Classifier\n",
    "tree_abalone_model = DecisionTreeClassifier();\n",
    "@time fit!(tree_abalone_model, abalone_X_train, abalone_y_train);\n",
    "@time tree_abalone_predictions = predict(tree_abalone_model, abalone_X_test);\n",
    "tree_abalone_accuracy = accuracy_score(tree_abalone_predictions, abalone_y_test);\n",
    "println(\"Decision Tree Classifier Accuracy: $(round(tree_abalone_accuracy * 100, digits=1))%\");\n",
    "io = open(\"./model/tree_abalone_model.sav\", \"w\");\n",
    "pickle.dump(tree_abalone_model, io);\n",
    "close(io);"
   ]
  },
  {
   "cell_type": "code",
   "execution_count": 18,
   "metadata": {},
   "outputs": [
    {
     "name": "stdout",
     "output_type": "stream",
     "text": [
      "  0.200879 seconds (21 allocations: 1.109 KiB)\n",
      "  0.149749 seconds (36 allocations: 11.625 KiB)\n",
      "Support Vector Machine Accuracy: 78.7%\n"
     ]
    }
   ],
   "source": [
    "# Support Vector Machine\n",
    "svm_abalone_model = SVC();\n",
    "@time fit!(svm_abalone_model, abalone_X_train, abalone_y_train);\n",
    "@time svm_abalone_predictions = predict(svm_abalone_model, abalone_X_test);\n",
    "svm_abalone_accuracy = accuracy_score(svm_abalone_predictions, abalone_y_test);\n",
    "println(\"Support Vector Machine Accuracy: $(round(svm_abalone_accuracy * 100, digits=1))%\");\n",
    "io = open(\"./model/svm_abalone_model.sav\", \"w\");\n",
    "pickle.dump(svm_abalone_model, io);\n",
    "close(io);"
   ]
  },
  {
   "cell_type": "code",
   "execution_count": 19,
   "metadata": {},
   "outputs": [
    {
     "name": "stdout",
     "output_type": "stream",
     "text": [
      "  1.396414 seconds (21 allocations: 1.109 KiB)\n",
      "  0.001581 seconds (39 allocations: 16.234 KiB)\n",
      "Neural Network Accuracy: 80.1%\n"
     ]
    }
   ],
   "source": [
    "# Neural Network\n",
    "nn_abalone_model = MLPClassifier(max_iter=1000);\n",
    "@time fit!(nn_abalone_model, abalone_X_train, abalone_y_train);\n",
    "@time nn_abalone_predictions = predict(nn_abalone_model, abalone_X_test);\n",
    "nn_abalone_accuracy = accuracy_score(nn_abalone_predictions, abalone_y_test);\n",
    "println(\"Neural Network Accuracy: $(round(nn_abalone_accuracy * 100, digits=1))%\");\n",
    "io = open(\"./model/nn_abalone_model.sav\", \"w\");\n",
    "pickle.dump(nn_abalone_model, io);\n",
    "close(io);"
   ]
  },
  {
   "cell_type": "markdown",
   "metadata": {},
   "source": [
    "# Madelon Data Set\n",
    "## ETL"
   ]
  },
  {
   "cell_type": "code",
   "execution_count": 20,
   "metadata": {},
   "outputs": [],
   "source": [
    "# Read madelon data csv into DataFrame\n",
    "madelon_test_df = CSV.File(\"./data/madelon/madelon_test.data\") |> DataFrame;\n",
    "madelon_train_df = CSV.File(\"./data/madelon/madelon_train.data\") |> DataFrame;\n",
    "madleon_valid_df = CSV.File(\"./data/madelon/madelon_valid.data\") |> DataFrame;\n",
    "madelon_train_labels = CSV.File(\"./data/madelon/madelon_train.labels\") |> DataFrame;"
   ]
  },
  {
   "cell_type": "markdown",
   "metadata": {},
   "source": [
    "## Preprocessing"
   ]
  },
  {
   "cell_type": "code",
   "execution_count": 21,
   "metadata": {},
   "outputs": [],
   "source": [
    "# Merge training features with training labels\n",
    "madelon_train_df[!,501] = madelon_train_labels[!,1];"
   ]
  },
  {
   "cell_type": "code",
   "execution_count": 22,
   "metadata": {},
   "outputs": [],
   "source": [
    "# Feature and label extraction\n",
    "madelon_X_features = convert(Array, madelon_train_df[:,1:500]);\n",
    "madelon_y_labels = convert(Array, madelon_train_df[:, 501]);"
   ]
  },
  {
   "cell_type": "code",
   "execution_count": 23,
   "metadata": {},
   "outputs": [],
   "source": [
    "# Drop irrelevant features to avoid overfitting\n",
    "madelon_X_features = SelectKBest(chi2, k=20).fit_transform(madelon_X_features, madelon_y_labels);"
   ]
  },
  {
   "cell_type": "code",
   "execution_count": 24,
   "metadata": {},
   "outputs": [],
   "source": [
    "# Split data into testing and training subsets\n",
    "madelon_X_train, madelon_X_test, madelon_y_train, madelon_y_test = train_test_split(madelon_X_features, madelon_y_labels, test_size=0.3);"
   ]
  },
  {
   "cell_type": "markdown",
   "metadata": {},
   "source": [
    "## Model Testing"
   ]
  },
  {
   "cell_type": "code",
   "execution_count": 25,
   "metadata": {},
   "outputs": [
    {
     "name": "stdout",
     "output_type": "stream",
     "text": [
      "  0.001221 seconds (21 allocations: 1.109 KiB)\n",
      "  0.000501 seconds (36 allocations: 6.500 KiB)\n",
      "Naive Bayesian Classifier Accuracy: 56.0%\n"
     ]
    }
   ],
   "source": [
    "# Naive Bayesian Classifier\n",
    "nb_madelon_model = GaussianNB()\n",
    "@time fit!(nb_madelon_model, madelon_X_train, madelon_y_train)\n",
    "@time nb_madelon_predictions = predict(nb_madelon_model, madelon_X_test)\n",
    "nb_madelon_accuracy = accuracy_score(nb_madelon_predictions, madelon_y_test)\n",
    "println(\"Naive Bayesian Classifier Accuracy: $(round(nb_madelon_accuracy * 100, digits=1))%\")\n",
    "io = open(\"./model/nb_madelon_model.sav\", \"w\")\n",
    "pickle.dump(nb_madelon_model, io)\n",
    "close(io)"
   ]
  },
  {
   "cell_type": "code",
   "execution_count": 26,
   "metadata": {},
   "outputs": [
    {
     "name": "stdout",
     "output_type": "stream",
     "text": [
      "  0.016816 seconds (21 allocations: 1.109 KiB)\n",
      "  0.000367 seconds (36 allocations: 6.500 KiB)\n",
      "Decision Tree Classifier Accuracy: 76.3%\n"
     ]
    }
   ],
   "source": [
    "# Decision Tree Classifier\n",
    "tree_madelon_model = DecisionTreeClassifier()\n",
    "@time fit!(tree_madelon_model, madelon_X_train, madelon_y_train)\n",
    "@time tree_madelon_predictions = predict(tree_madelon_model, madelon_X_test)\n",
    "tree_madelon_accuracy = accuracy_score(tree_madelon_predictions, madelon_y_test)\n",
    "println(\"Decision Tree Classifier Accuracy: $(round(tree_madelon_accuracy * 100, digits=1))%\")\n",
    "io = open(\"./model/tree_madelon_model.sav\", \"w\")\n",
    "pickle.dump(tree_madelon_model, io)\n",
    "close(io)"
   ]
  },
  {
   "cell_type": "code",
   "execution_count": 27,
   "metadata": {},
   "outputs": [
    {
     "name": "stdout",
     "output_type": "stream",
     "text": [
      "  0.076111 seconds (21 allocations: 1.109 KiB)\n",
      "  0.053031 seconds (36 allocations: 6.500 KiB)\n",
      "Support Vector Machine Accuracy: 78.8%\n"
     ]
    }
   ],
   "source": [
    "# Support Vector Machine\n",
    "svm_abalone_model = SVC()\n",
    "@time fit!(svm_abalone_model, madelon_X_train, madelon_y_train)\n",
    "@time svm_abalone_predictions = predict(svm_abalone_model, madelon_X_test)\n",
    "svm_abalone_accuracy = accuracy_score(svm_abalone_predictions, madelon_y_test)\n",
    "println(\"Support Vector Machine Accuracy: $(round(svm_abalone_accuracy * 100, digits=1))%\")\n",
    "io = open(\"./model/svm_abalone_model.sav\", \"w\")\n",
    "pickle.dump(svm_abalone_model, io)\n",
    "close(io)"
   ]
  },
  {
   "cell_type": "code",
   "execution_count": 28,
   "metadata": {},
   "outputs": [
    {
     "name": "stdout",
     "output_type": "stream",
     "text": [
      "  0.273388 seconds (21 allocations: 1.109 KiB)\n",
      "  0.000504 seconds (36 allocations: 6.500 KiB)\n",
      "Neural Network Accuracy: 64.0%\n"
     ]
    }
   ],
   "source": [
    "# Neural Network\n",
    "nn_abalone_model = MLPClassifier(max_iter=1000)\n",
    "@time fit!(nn_abalone_model, madelon_X_train, madelon_y_train)\n",
    "@time nn_abalone_predictions = predict(nn_abalone_model, madelon_X_test)\n",
    "nn_abalone_accuracy = accuracy_score(nn_abalone_predictions, madelon_y_test)\n",
    "println(\"Neural Network Accuracy: $(round(nn_abalone_accuracy * 100, digits=1))%\")\n",
    "io = open(\"./model/nn_abalone_model.sav\", \"w\")\n",
    "pickle.dump(nn_abalone_model, io)\n",
    "close(io)"
   ]
  },
  {
   "cell_type": "markdown",
   "metadata": {},
   "source": [
    "# KDD Data Set\n",
    "## ETL"
   ]
  },
  {
   "cell_type": "code",
   "execution_count": 29,
   "metadata": {
    "scrolled": true
   },
   "outputs": [
    {
     "data": {
      "text/html": [
       "<table class=\"data-frame\"><thead><tr><th></th><th>0</th><th>tcp</th><th>http</th><th>SF</th><th>181</th><th>5450</th><th>0_1</th><th>0_2</th><th>0_3</th><th>0_4</th><th>0_5</th></tr><tr><th></th><th>Int64</th><th>String</th><th>String</th><th>String</th><th>Int64</th><th>Int64</th><th>Int64</th><th>Int64</th><th>Int64</th><th>Int64</th><th>Int64</th></tr></thead><tbody><p>5 rows × 42 columns (omitted printing of 31 columns)</p><tr><th>1</th><td>0</td><td>tcp</td><td>http</td><td>SF</td><td>239</td><td>486</td><td>0</td><td>0</td><td>0</td><td>0</td><td>0</td></tr><tr><th>2</th><td>0</td><td>tcp</td><td>http</td><td>SF</td><td>235</td><td>1337</td><td>0</td><td>0</td><td>0</td><td>0</td><td>0</td></tr><tr><th>3</th><td>0</td><td>tcp</td><td>http</td><td>SF</td><td>219</td><td>1337</td><td>0</td><td>0</td><td>0</td><td>0</td><td>0</td></tr><tr><th>4</th><td>0</td><td>tcp</td><td>http</td><td>SF</td><td>217</td><td>2032</td><td>0</td><td>0</td><td>0</td><td>0</td><td>0</td></tr><tr><th>5</th><td>0</td><td>tcp</td><td>http</td><td>SF</td><td>217</td><td>2032</td><td>0</td><td>0</td><td>0</td><td>0</td><td>0</td></tr></tbody></table>"
      ],
      "text/latex": [
       "\\begin{tabular}{r|cccccccccccc}\n",
       "\t& 0 & tcp & http & SF & 181 & 5450 & 0\\_1 & 0\\_2 & 0\\_3 & 0\\_4 & 0\\_5 & \\\\\n",
       "\t\\hline\n",
       "\t& Int64 & String & String & String & Int64 & Int64 & Int64 & Int64 & Int64 & Int64 & Int64 & \\\\\n",
       "\t\\hline\n",
       "\t1 & 0 & tcp & http & SF & 239 & 486 & 0 & 0 & 0 & 0 & 0 & $\\dots$ \\\\\n",
       "\t2 & 0 & tcp & http & SF & 235 & 1337 & 0 & 0 & 0 & 0 & 0 & $\\dots$ \\\\\n",
       "\t3 & 0 & tcp & http & SF & 219 & 1337 & 0 & 0 & 0 & 0 & 0 & $\\dots$ \\\\\n",
       "\t4 & 0 & tcp & http & SF & 217 & 2032 & 0 & 0 & 0 & 0 & 0 & $\\dots$ \\\\\n",
       "\t5 & 0 & tcp & http & SF & 217 & 2032 & 0 & 0 & 0 & 0 & 0 & $\\dots$ \\\\\n",
       "\\end{tabular}\n"
      ],
      "text/plain": [
       "\u001b[1m5×42 DataFrame\u001b[0m\n",
       "\u001b[1m Row \u001b[0m│\u001b[1m 0     \u001b[0m\u001b[1m tcp    \u001b[0m\u001b[1m http   \u001b[0m\u001b[1m SF     \u001b[0m\u001b[1m 181   \u001b[0m\u001b[1m 5450  \u001b[0m\u001b[1m 0_1   \u001b[0m\u001b[1m 0_2   \u001b[0m\u001b[1m 0_3   \u001b[0m\u001b[1m 0_4  \u001b[0m ⋯\n",
       "\u001b[1m     \u001b[0m│\u001b[90m Int64 \u001b[0m\u001b[90m String \u001b[0m\u001b[90m String \u001b[0m\u001b[90m String \u001b[0m\u001b[90m Int64 \u001b[0m\u001b[90m Int64 \u001b[0m\u001b[90m Int64 \u001b[0m\u001b[90m Int64 \u001b[0m\u001b[90m Int64 \u001b[0m\u001b[90m Int64\u001b[0m ⋯\n",
       "─────┼──────────────────────────────────────────────────────────────────────────\n",
       "   1 │     0  tcp     http    SF        239    486      0      0  0      0     ⋯\n",
       "   2 │     0  tcp     http    SF        235   1337      0      0  0      0\n",
       "   3 │     0  tcp     http    SF        219   1337      0      0  0      0\n",
       "   4 │     0  tcp     http    SF        217   2032      0      0  0      0\n",
       "   5 │     0  tcp     http    SF        217   2032      0      0  0      0     ⋯\n",
       "\u001b[36m                                                              32 columns omitted\u001b[0m"
      ]
     },
     "execution_count": 29,
     "metadata": {},
     "output_type": "execute_result"
    }
   ],
   "source": [
    "kdd_df = CSV.File(\"./data/kddcup.data\") |> DataFrame;\n",
    "first(kdd_df, 5)"
   ]
  },
  {
   "cell_type": "markdown",
   "metadata": {},
   "source": [
    "## Preprocessing"
   ]
  },
  {
   "cell_type": "code",
   "execution_count": 30,
   "metadata": {},
   "outputs": [
    {
     "data": {
      "text/html": [
       "<table class=\"data-frame\"><thead><tr><th></th><th>0</th><th>tcp</th><th>http</th><th>SF</th><th>181</th><th>5450</th><th>0_1</th><th>0_2</th><th>0_3</th><th>0_4</th><th>0_5</th><th>1</th></tr><tr><th></th><th>Int64</th><th>Int64</th><th>Int64</th><th>Int64</th><th>Int64</th><th>Int64</th><th>Int64</th><th>Int64</th><th>Int64</th><th>Int64</th><th>Int64</th><th>Int64</th></tr></thead><tbody><p>5 rows × 42 columns (omitted printing of 30 columns)</p><tr><th>1</th><td>0</td><td>1</td><td>22</td><td>9</td><td>239</td><td>486</td><td>0</td><td>0</td><td>0</td><td>0</td><td>0</td><td>1</td></tr><tr><th>2</th><td>0</td><td>1</td><td>22</td><td>9</td><td>235</td><td>1337</td><td>0</td><td>0</td><td>0</td><td>0</td><td>0</td><td>1</td></tr><tr><th>3</th><td>0</td><td>1</td><td>22</td><td>9</td><td>219</td><td>1337</td><td>0</td><td>0</td><td>0</td><td>0</td><td>0</td><td>1</td></tr><tr><th>4</th><td>0</td><td>1</td><td>22</td><td>9</td><td>217</td><td>2032</td><td>0</td><td>0</td><td>0</td><td>0</td><td>0</td><td>1</td></tr><tr><th>5</th><td>0</td><td>1</td><td>22</td><td>9</td><td>217</td><td>2032</td><td>0</td><td>0</td><td>0</td><td>0</td><td>0</td><td>1</td></tr></tbody></table>"
      ],
      "text/latex": [
       "\\begin{tabular}{r|ccccccccccccc}\n",
       "\t& 0 & tcp & http & SF & 181 & 5450 & 0\\_1 & 0\\_2 & 0\\_3 & 0\\_4 & 0\\_5 & 1 & \\\\\n",
       "\t\\hline\n",
       "\t& Int64 & Int64 & Int64 & Int64 & Int64 & Int64 & Int64 & Int64 & Int64 & Int64 & Int64 & Int64 & \\\\\n",
       "\t\\hline\n",
       "\t1 & 0 & 1 & 22 & 9 & 239 & 486 & 0 & 0 & 0 & 0 & 0 & 1 & $\\dots$ \\\\\n",
       "\t2 & 0 & 1 & 22 & 9 & 235 & 1337 & 0 & 0 & 0 & 0 & 0 & 1 & $\\dots$ \\\\\n",
       "\t3 & 0 & 1 & 22 & 9 & 219 & 1337 & 0 & 0 & 0 & 0 & 0 & 1 & $\\dots$ \\\\\n",
       "\t4 & 0 & 1 & 22 & 9 & 217 & 2032 & 0 & 0 & 0 & 0 & 0 & 1 & $\\dots$ \\\\\n",
       "\t5 & 0 & 1 & 22 & 9 & 217 & 2032 & 0 & 0 & 0 & 0 & 0 & 1 & $\\dots$ \\\\\n",
       "\\end{tabular}\n"
      ],
      "text/plain": [
       "\u001b[1m5×42 DataFrame\u001b[0m\n",
       "\u001b[1m Row \u001b[0m│\u001b[1m 0     \u001b[0m\u001b[1m tcp   \u001b[0m\u001b[1m http  \u001b[0m\u001b[1m SF    \u001b[0m\u001b[1m 181   \u001b[0m\u001b[1m 5450  \u001b[0m\u001b[1m 0_1   \u001b[0m\u001b[1m 0_2   \u001b[0m\u001b[1m 0_3   \u001b[0m\u001b[1m 0_4   \u001b[0m\u001b[1m 0\u001b[0m ⋯\n",
       "\u001b[1m     \u001b[0m│\u001b[90m Int64 \u001b[0m\u001b[90m Int64 \u001b[0m\u001b[90m Int64 \u001b[0m\u001b[90m Int64 \u001b[0m\u001b[90m Int64 \u001b[0m\u001b[90m Int64 \u001b[0m\u001b[90m Int64 \u001b[0m\u001b[90m Int64 \u001b[0m\u001b[90m Int64 \u001b[0m\u001b[90m Int64 \u001b[0m\u001b[90m I\u001b[0m ⋯\n",
       "─────┼──────────────────────────────────────────────────────────────────────────\n",
       "   1 │     0      1     22      9    239    486      0      0  0      0      0 ⋯\n",
       "   2 │     0      1     22      9    235   1337      0      0  0      0      0\n",
       "   3 │     0      1     22      9    219   1337      0      0  0      0      0\n",
       "   4 │     0      1     22      9    217   2032      0      0  0      0      0\n",
       "   5 │     0      1     22      9    217   2032      0      0  0      0      0 ⋯\n",
       "\u001b[36m                                                              32 columns omitted\u001b[0m"
      ]
     },
     "execution_count": 30,
     "metadata": {},
     "output_type": "execute_result"
    }
   ],
   "source": [
    "kdd_df[!,2] = le.fit_transform(kdd_df[!,2])\n",
    "kdd_df[!,3] = le.fit_transform(kdd_df[!,3])\n",
    "kdd_df[!,4] = le.fit_transform(kdd_df[!,4])\n",
    "first(kdd_df, 5)"
   ]
  },
  {
   "cell_type": "code",
   "execution_count": 31,
   "metadata": {},
   "outputs": [],
   "source": [
    "kdd_X_features = convert(Array, kdd_df[!,1:41]);\n",
    "kdd_y_labels = convert(Array, kdd_df[!,42]);"
   ]
  },
  {
   "cell_type": "code",
   "execution_count": 32,
   "metadata": {},
   "outputs": [],
   "source": [
    "kdd_X_train, kdd_X_test, kdd_y_train, kdd_y_test = train_test_split(kdd_X_features, kdd_y_labels, test_size=0.3, random_state=42);"
   ]
  },
  {
   "cell_type": "markdown",
   "metadata": {},
   "source": [
    "## Model Testing"
   ]
  },
  {
   "cell_type": "code",
   "execution_count": 33,
   "metadata": {},
   "outputs": [
    {
     "name": "stdout",
     "output_type": "stream",
     "text": [
      "  0.694945 seconds (351.06 k allocations: 5.559 MiB)\n",
      "  1.824012 seconds (1.06 M allocations: 34.208 MiB, 14.89% gc time)\n",
      "Naive Bayesian Classifier Accuracy: 93.7%\n"
     ]
    }
   ],
   "source": [
    "# Naive Bayesian Classifier\n",
    "nb_kdd_model = GaussianNB()\n",
    "@time fit!(nb_kdd_model, kdd_X_train, kdd_y_train)\n",
    "@time nb_kdd_preditions = predict(nb_kdd_model, kdd_X_test)\n",
    "nb_kdd_accuracy = accuracy_score(nb_kdd_preditions, kdd_y_test)\n",
    "println(\"Naive Bayesian Classifier Accuracy: $(round(nb_kdd_accuracy * 100, digits=1))%\")\n",
    "io = open(\"./model/nb_kdd_model.sav\", \"w\")\n",
    "pickle.dump(nb_kdd_model, io)\n",
    "close(io)"
   ]
  },
  {
   "cell_type": "code",
   "execution_count": 34,
   "metadata": {
    "scrolled": true
   },
   "outputs": [
    {
     "name": "stdout",
     "output_type": "stream",
     "text": [
      "  1.652645 seconds (345.83 k allocations: 5.278 MiB)\n",
      "  0.212319 seconds (889.29 k allocations: 25.617 MiB)\n",
      "Decision Tree Classifier Accuracy: 100.0%\n"
     ]
    }
   ],
   "source": [
    "# Decision Tree Classifier\n",
    "tree_kdd_model = DecisionTreeClassifier()\n",
    "@time fit!(tree_kdd_model, kdd_X_train, kdd_y_train)\n",
    "@time tree_kdd_predictions = predict(tree_kdd_model, kdd_X_test)\n",
    "tree_kdd_accuracy = accuracy_score(tree_kdd_predictions, kdd_y_test)\n",
    "println(\"Decision Tree Classifier Accuracy: $(round(tree_kdd_accuracy * 100, digits=1))%\")\n",
    "io = open(\"./model/tree_kdd_model.sav\", \"w\")\n",
    "pickle.dump(tree_kdd_model, io)\n",
    "close(io)"
   ]
  },
  {
   "cell_type": "code",
   "execution_count": 35,
   "metadata": {},
   "outputs": [
    {
     "name": "stdout",
     "output_type": "stream",
     "text": [
      "  0.074761 seconds (21 allocations: 1.109 KiB)\n",
      "  0.058261 seconds (36 allocations: 6.500 KiB)\n",
      "Support Vector Machine Accuracy: 78.8%\n"
     ]
    }
   ],
   "source": [
    "# Support Vector Machine\n",
    "svm_kdd_model = SVC()\n",
    "@time fit!(svm_kdd_model, madelon_X_train, madelon_y_train)\n",
    "@time svm_kdd_predictions = predict(svm_kdd_model, madelon_X_test)\n",
    "svm_kdd_accuracy = accuracy_score(svm_kdd_predictions, madelon_y_test)\n",
    "println(\"Support Vector Machine Accuracy: $(round(svm_kdd_accuracy * 100, digits=1))%\")\n",
    "io = open(\"./model/svm_kdd_model.sav\", \"w\")\n",
    "pickle.dump(svm_kdd_model, io)\n",
    "close(io)"
   ]
  },
  {
   "cell_type": "code",
   "execution_count": 36,
   "metadata": {},
   "outputs": [
    {
     "name": "stdout",
     "output_type": "stream",
     "text": [
      "  0.356498 seconds (21 allocations: 1.109 KiB)\n",
      "  0.000580 seconds (36 allocations: 6.500 KiB)\n",
      "Neural Network Accuracy: 60.5%\n"
     ]
    }
   ],
   "source": [
    "# Neural Network\n",
    "nn_kdd_model = MLPClassifier(max_iter=1000)\n",
    "@time fit!(nn_kdd_model, madelon_X_train, madelon_y_train)\n",
    "@time nn_kdd_predictions = predict(nn_kdd_model, madelon_X_test)\n",
    "nn_kdd_accuracy = accuracy_score(nn_kdd_predictions, madelon_y_test)\n",
    "println(\"Neural Network Accuracy: $(round(nn_kdd_accuracy * 100, digits=1))%\")\n",
    "io = open(\"./model/nn_kdd_model.sav\", \"w\")\n",
    "pickle.dump(nn_kdd_model, io)\n",
    "close(io)"
   ]
  }
 ],
 "metadata": {
  "kernelspec": {
   "display_name": "Julia 1.5.3",
   "language": "julia",
   "name": "julia-1.5"
  },
  "language_info": {
   "file_extension": ".jl",
   "mimetype": "application/julia",
   "name": "julia",
   "version": "1.5.3"
  }
 },
 "nbformat": 4,
 "nbformat_minor": 4
}
