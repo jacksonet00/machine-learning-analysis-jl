{
 "cells": [
  {
   "cell_type": "markdown",
   "metadata": {},
   "source": [
    "# Dependencies"
   ]
  },
  {
   "cell_type": "code",
   "execution_count": null,
   "metadata": {},
   "outputs": [],
   "source": [
    "using ScikitLearn, CSV, DataFrames, PyCall;\n",
    "@sk_import preprocessing: LabelEncoder;\n",
    "@sk_import naive_bayes: (CategoricalNB, GaussianNB);\n",
    "@sk_import metrics: accuracy_score;\n",
    "@sk_import tree: DecisionTreeClassifier;\n",
    "@sk_import svm: SVC;\n",
    "@sk_import neural_network: MLPClassifier;\n",
    "@sk_import feature_selection: (SelectKBest, chi2);"
   ]
  },
  {
   "cell_type": "code",
   "execution_count": null,
   "metadata": {},
   "outputs": [],
   "source": [
    "train_test_split = ScikitLearn.CrossValidation.train_test_split;\n",
    "le = LabelEncoder();\n",
    "pickle = pyimport(\"pickle\");"
   ]
  },
  {
   "cell_type": "markdown",
   "metadata": {},
   "source": [
    "# Car Eval Data Set\n",
    "## ETL"
   ]
  },
  {
   "cell_type": "code",
   "execution_count": null,
   "metadata": {},
   "outputs": [],
   "source": [
    "# Read car data csv into DataFrame\n",
    "car_columns = [\"buying\", \"maint\", \"doors\", \"persons\", \"lug_boot\", \"safety\", \"class\"];\n",
    "car_df = CSV.File(\"./data/car.data\", header=car_columns) |> DataFrame;\n",
    "first(car_df, 5)"
   ]
  },
  {
   "cell_type": "markdown",
   "metadata": {},
   "source": [
    "## Preprocessing"
   ]
  },
  {
   "cell_type": "code",
   "execution_count": null,
   "metadata": {},
   "outputs": [],
   "source": [
    "# Encode values for car data\n",
    "for col in car_columns\n",
    "    car_df[!,col] = le.fit_transform(car_df[!,col]);\n",
    "end\n",
    "first(car_df, 5)"
   ]
  },
  {
   "cell_type": "code",
   "execution_count": null,
   "metadata": {},
   "outputs": [],
   "source": [
    "# Feature and Label extraction\n",
    "car_X = convert(Array, car_df[:,1:6]);\n",
    "car_y = convert(Array, car_df[:, 7]);"
   ]
  },
  {
   "cell_type": "code",
   "execution_count": null,
   "metadata": {},
   "outputs": [],
   "source": [
    "# Split data into testing and training subsets\n",
    "car_X_train, car_X_test, car_y_train, car_y_test = train_test_split(car_X, car_y, test_size=0.3, random_state=100);"
   ]
  },
  {
   "cell_type": "markdown",
   "metadata": {},
   "source": [
    "## Model Testing"
   ]
  },
  {
   "cell_type": "code",
   "execution_count": null,
   "metadata": {},
   "outputs": [],
   "source": [
    "# Naive Bayesian Classifier\n",
    "nb_car_model = CategoricalNB();\n",
    "@time fit!(nb_car_model, car_X_train, car_y_train);\n",
    "@time nb_car_predictions = predict(nb_car_model, car_X_test);\n",
    "nb_car_accuracy = accuracy_score(nb_car_predictions, car_y_test);\n",
    "println(\"Naive Bayesian Classifier Accuracy: $(round(nb_car_accuracy * 100, digits=1))%\");\n",
    "io = open(\"./model/nb_car_model.sav\", \"w\");\n",
    "pickle.dump(nb_car_model, io);\n",
    "close(io);"
   ]
  },
  {
   "cell_type": "code",
   "execution_count": null,
   "metadata": {},
   "outputs": [],
   "source": [
    "# Decision Tree Classifier\n",
    "tree_car_model = DecisionTreeClassifier();\n",
    "@time fit!(tree_car_model, car_X_train, car_y_train);\n",
    "@time tree_car_predictions = predict(tree_car_model, car_X_test);\n",
    "tree_car_accuracy = accuracy_score(tree_car_predictions, car_y_test);\n",
    "println(\"Decision Tree Classifier Accuracy: $(round(tree_car_accuracy * 100, digits=1))%\");\n",
    "io = open(\"./model/tree_car_model.sav\", \"w\");\n",
    "pickle.dump(tree_car_model, io);\n",
    "close(io);"
   ]
  },
  {
   "cell_type": "code",
   "execution_count": null,
   "metadata": {},
   "outputs": [],
   "source": [
    "# Support Vector Machine\n",
    "svm_car_model = SVC();\n",
    "@time fit!(svm_car_model, car_X_train, car_y_train);\n",
    "@time svm_car_predictions = predict(svm_car_model, car_X_test);\n",
    "svm_car_accuracy = accuracy_score(svm_car_predictions, car_y_test);\n",
    "println(\"Support Vector Machine Accuracy: $(round(svm_car_accuracy * 100, digits=1))%\");\n",
    "io = open(\"./model/svm_car_model.sav\", \"w\");\n",
    "pickle.dump(svm_car_model, io);\n",
    "close(io);"
   ]
  },
  {
   "cell_type": "code",
   "execution_count": null,
   "metadata": {},
   "outputs": [],
   "source": [
    "# Neural Network\n",
    "nn_car_model = MLPClassifier(max_iter=1000);\n",
    "@time fit!(nn_car_model, car_X_train, car_y_train);\n",
    "@time nn_car_predictions = predict(nn_car_model, car_X_test);\n",
    "nn_car_accuracy = accuracy_score(nn_car_predictions, car_y_test);\n",
    "println(\"Neural Network Accuracy: $(round(nn_car_accuracy * 100, digits=1))%\");\n",
    "io = open(\"./model/nn_car_model.sav\", \"w\");\n",
    "pickle.dump(nn_car_model, io);\n",
    "close(io);"
   ]
  },
  {
   "cell_type": "markdown",
   "metadata": {},
   "source": [
    "# Abalone Data Set\n",
    "## ETL"
   ]
  },
  {
   "cell_type": "code",
   "execution_count": null,
   "metadata": {},
   "outputs": [],
   "source": [
    "# Read abalone data csv into DataFrame\n",
    "abalone_columns = [\"sex\", \"length\", \"diameter\", \"height\", \"whole_weight\", \"shucked_weight\", \"viscera_weight\", \"shell_weight\", \"rings\"];\n",
    "abalone_df = CSV.File(\"./data/abalone.data\", header=abalone_columns) |> DataFrame;\n",
    "first(abalone_df, 5)"
   ]
  },
  {
   "cell_type": "markdown",
   "metadata": {},
   "source": [
    "## Preprocessing"
   ]
  },
  {
   "cell_type": "code",
   "execution_count": null,
   "metadata": {},
   "outputs": [],
   "source": [
    "# Encode sex\n",
    "abalone_df[!,:sex] = le.fit_transform(abalone_df[!,:sex]);\n",
    "first(abalone_df, 5);"
   ]
  },
  {
   "cell_type": "code",
   "execution_count": null,
   "metadata": {},
   "outputs": [],
   "source": [
    "# Categorize rings into 3 groups based on age\n",
    "index = 1;\n",
    "for ring in abalone_df[!,:rings]\n",
    "    age = ring + 1.5;\n",
    "    if 1 < age < 9\n",
    "        abalone_df[index,:rings] = 1;\n",
    "    elseif age < 10\n",
    "        abalone_df[index,:rings] = 2;\n",
    "    else\n",
    "        abalone_df[index,:rings] = 3;\n",
    "    end\n",
    "    index += 1;\n",
    "end"
   ]
  },
  {
   "cell_type": "code",
   "execution_count": null,
   "metadata": {},
   "outputs": [],
   "source": [
    "# Feature and label extraction\n",
    "abalone_X_features = convert(Array, abalone_df[:,1:8]);\n",
    "abalone_y_labels = convert(Array, abalone_df[:, 9]);"
   ]
  },
  {
   "cell_type": "code",
   "execution_count": null,
   "metadata": {},
   "outputs": [],
   "source": [
    "# Split data into testing and training subsets\n",
    "abalone_X_train, abalone_X_test, abalone_y_train, abalone_y_test = train_test_split(abalone_X_features, abalone_y_labels, test_size=0.3);"
   ]
  },
  {
   "cell_type": "markdown",
   "metadata": {},
   "source": [
    "## Model Testing"
   ]
  },
  {
   "cell_type": "code",
   "execution_count": null,
   "metadata": {},
   "outputs": [],
   "source": [
    "# Naive Bayesian Classifier\n",
    "nb_abalone_model = GaussianNB();\n",
    "@time fit!(nb_abalone_model, abalone_X_train, abalone_y_train);\n",
    "@time nb_abalone_predictions = predict(nb_abalone_model, abalone_X_test);\n",
    "nb_abalone_accuracy = accuracy_score(nb_abalone_predictions, abalone_y_test);\n",
    "println(\"Naive Bayesian Classifier Accuracy: $(round(nb_abalone_accuracy * 100, digits=1))%\");\n",
    "io = open(\"./model/nb_abalone_model.sav\", \"w\");\n",
    "pickle.dump(nb_abalone_model, io);\n",
    "close(io);"
   ]
  },
  {
   "cell_type": "code",
   "execution_count": null,
   "metadata": {},
   "outputs": [],
   "source": [
    "# Decision Tree Classifier\n",
    "tree_abalone_model = DecisionTreeClassifier();\n",
    "@time fit!(tree_abalone_model, abalone_X_train, abalone_y_train);\n",
    "@time tree_abalone_predictions = predict(tree_abalone_model, abalone_X_test);\n",
    "tree_abalone_accuracy = accuracy_score(tree_abalone_predictions, abalone_y_test);\n",
    "println(\"Decision Tree Classifier Accuracy: $(round(tree_abalone_accuracy * 100, digits=1))%\");\n",
    "io = open(\"./model/tree_abalone_model.sav\", \"w\");\n",
    "pickle.dump(tree_abalone_model, io);\n",
    "close(io);"
   ]
  },
  {
   "cell_type": "code",
   "execution_count": null,
   "metadata": {},
   "outputs": [],
   "source": [
    "# Support Vector Machine\n",
    "svm_abalone_model = SVC();\n",
    "@time fit!(svm_abalone_model, abalone_X_train, abalone_y_train);\n",
    "@time svm_abalone_predictions = predict(svm_abalone_model, abalone_X_test);\n",
    "svm_abalone_accuracy = accuracy_score(svm_abalone_predictions, abalone_y_test);\n",
    "println(\"Support Vector Machine Accuracy: $(round(svm_abalone_accuracy * 100, digits=1))%\");\n",
    "io = open(\"./model/svm_abalone_model.sav\", \"w\");\n",
    "pickle.dump(svm_abalone_model, io);\n",
    "close(io);"
   ]
  },
  {
   "cell_type": "code",
   "execution_count": null,
   "metadata": {},
   "outputs": [],
   "source": [
    "# Neural Network\n",
    "nn_abalone_model = MLPClassifier(max_iter=1000);\n",
    "@time fit!(nn_abalone_model, abalone_X_train, abalone_y_train);\n",
    "@time nn_abalone_predictions = predict(nn_abalone_model, abalone_X_test);\n",
    "nn_abalone_accuracy = accuracy_score(nn_abalone_predictions, abalone_y_test);\n",
    "println(\"Neural Network Accuracy: $(round(nn_abalone_accuracy * 100, digits=1))%\");\n",
    "io = open(\"./model/nn_abalone_model.sav\", \"w\");\n",
    "pickle.dump(nn_abalone_model, io);\n",
    "close(io);"
   ]
  },
  {
   "cell_type": "markdown",
   "metadata": {},
   "source": [
    "# Madelon Data Set\n",
    "## ETL"
   ]
  },
  {
   "cell_type": "code",
   "execution_count": null,
   "metadata": {},
   "outputs": [],
   "source": [
    "# Read madelon data csv into DataFrame\n",
    "madelon_test_df = CSV.File(\"./data/madelon/madelon_test.data\") |> DataFrame;\n",
    "madelon_train_df = CSV.File(\"./data/madelon/madelon_train.data\") |> DataFrame;\n",
    "madleon_valid_df = CSV.File(\"./data/madelon/madelon_valid.data\") |> DataFrame;\n",
    "madelon_train_labels = CSV.File(\"./data/madelon/madelon_train.labels\") |> DataFrame;"
   ]
  },
  {
   "cell_type": "markdown",
   "metadata": {},
   "source": [
    "## Preprocessing"
   ]
  },
  {
   "cell_type": "code",
   "execution_count": null,
   "metadata": {},
   "outputs": [],
   "source": [
    "# Merge training features with training labels\n",
    "madelon_train_df[!,501] = madelon_train_labels[!,1];"
   ]
  },
  {
   "cell_type": "code",
   "execution_count": null,
   "metadata": {},
   "outputs": [],
   "source": [
    "# Feature and label extraction\n",
    "madelon_X_features = convert(Array, madelon_train_df[:,1:500]);\n",
    "madelon_y_labels = convert(Array, madelon_train_df[:, 501]);"
   ]
  },
  {
   "cell_type": "code",
   "execution_count": null,
   "metadata": {},
   "outputs": [],
   "source": [
    "# Drop irrelevant features to avoid overfitting\n",
    "madelon_X_features = SelectKBest(chi2, k=20).fit_transform(madelon_X_features, madelon_y_labels);"
   ]
  },
  {
   "cell_type": "code",
   "execution_count": null,
   "metadata": {},
   "outputs": [],
   "source": [
    "# Split data into testing and training subsets\n",
    "madelon_X_train, madelon_X_test, madelon_y_train, madelon_y_test = train_test_split(madelon_X_features, madelon_y_labels, test_size=0.3);"
   ]
  },
  {
   "cell_type": "markdown",
   "metadata": {},
   "source": [
    "## Model Testing"
   ]
  },
  {
   "cell_type": "code",
   "execution_count": null,
   "metadata": {},
   "outputs": [],
   "source": [
    "# Naive Bayesian Classifier\n",
    "nb_madelon_model = GaussianNB()\n",
    "@time fit!(nb_madelon_model, madelon_X_train, madelon_y_train)\n",
    "@time nb_madelon_predictions = predict(nb_madelon_model, madelon_X_test)\n",
    "nb_madelon_accuracy = accuracy_score(nb_madelon_predictions, madelon_y_test)\n",
    "println(\"Naive Bayesian Classifier Accuracy: $(round(nb_madelon_accuracy * 100, digits=1))%\")\n",
    "io = open(\"./model/nb_madelon_model.sav\", \"w\")\n",
    "pickle.dump(nb_madelon_model, io)\n",
    "close(io)"
   ]
  },
  {
   "cell_type": "code",
   "execution_count": null,
   "metadata": {},
   "outputs": [],
   "source": [
    "# Decision Tree Classifier\n",
    "tree_madelon_model = DecisionTreeClassifier()\n",
    "@time fit!(tree_madelon_model, madelon_X_train, madelon_y_train)\n",
    "@time tree_madelon_predictions = predict(tree_madelon_model, madelon_X_test)\n",
    "tree_madelon_accuracy = accuracy_score(tree_madelon_predictions, madelon_y_test)\n",
    "println(\"Decision Tree Classifier Accuracy: $(round(tree_madelon_accuracy * 100, digits=1))%\")\n",
    "io = open(\"./model/tree_madelon_model.sav\", \"w\")\n",
    "pickle.dump(tree_madelon_model, io)\n",
    "close(io)"
   ]
  },
  {
   "cell_type": "code",
   "execution_count": null,
   "metadata": {},
   "outputs": [],
   "source": [
    "# Support Vector Machine\n",
    "svm_abalone_model = SVC()\n",
    "@time fit!(svm_abalone_model, madelon_X_train, madelon_y_train)\n",
    "@time svm_abalone_predictions = predict(svm_abalone_model, madelon_X_test)\n",
    "svm_abalone_accuracy = accuracy_score(svm_abalone_predictions, madelon_y_test)\n",
    "println(\"Support Vector Machine Accuracy: $(round(svm_abalone_accuracy * 100, digits=1))%\")\n",
    "io = open(\"./model/svm_abalone_model.sav\", \"w\")\n",
    "pickle.dump(svm_abalone_model, io)\n",
    "close(io)"
   ]
  },
  {
   "cell_type": "code",
   "execution_count": null,
   "metadata": {},
   "outputs": [],
   "source": [
    "# Neural Network\n",
    "nn_abalone_model = MLPClassifier(max_iter=1000)\n",
    "@time fit!(nn_abalone_model, madelon_X_train, madelon_y_train)\n",
    "@time nn_abalone_predictions = predict(nn_abalone_model, madelon_X_test)\n",
    "nn_abalone_accuracy = accuracy_score(nn_abalone_predictions, madelon_y_test)\n",
    "println(\"Neural Network Accuracy: $(round(nn_abalone_accuracy * 100, digits=1))%\")\n",
    "io = open(\"./model/nn_abalone_model.sav\", \"w\")\n",
    "pickle.dump(nn_abalone_model, io)\n",
    "close(io)"
   ]
  },
  {
   "cell_type": "markdown",
   "metadata": {},
   "source": [
    "# KDD Data Set\n",
    "## ETL"
   ]
  },
  {
   "cell_type": "code",
   "execution_count": null,
   "metadata": {
    "scrolled": true
   },
   "outputs": [],
   "source": [
    "kdd_df = CSV.File(\"./data/kddcup.data\") |> DataFrame;\n",
    "first(kdd_df, 5)"
   ]
  },
  {
   "cell_type": "markdown",
   "metadata": {},
   "source": [
    "## Preprocessing"
   ]
  },
  {
   "cell_type": "code",
   "execution_count": null,
   "metadata": {},
   "outputs": [],
   "source": [
    "kdd_df[!,2] = le.fit_transform(kdd_df[!,2])\n",
    "kdd_df[!,3] = le.fit_transform(kdd_df[!,3])\n",
    "kdd_df[!,4] = le.fit_transform(kdd_df[!,4])\n",
    "first(kdd_df, 5)"
   ]
  },
  {
   "cell_type": "code",
   "execution_count": null,
   "metadata": {},
   "outputs": [],
   "source": [
    "kdd_X_features = convert(Array, kdd_df[!,1:41]);\n",
    "kdd_y_labels = convert(Array, kdd_df[!,42]);"
   ]
  },
  {
   "cell_type": "code",
   "execution_count": null,
   "metadata": {},
   "outputs": [],
   "source": [
    "kdd_X_train, kdd_X_test, kdd_y_train, kdd_y_test = train_test_split(kdd_X_features, kdd_y_labels, test_size=0.3, random_state=42);"
   ]
  },
  {
   "cell_type": "markdown",
   "metadata": {},
   "source": [
    "## Model Testing"
   ]
  },
  {
   "cell_type": "code",
   "execution_count": null,
   "metadata": {},
   "outputs": [],
   "source": [
    "# Naive Bayesian Classifier\n",
    "nb_kdd_model = GaussianNB()\n",
    "@time fit!(nb_kdd_model, kdd_X_train, kdd_y_train)\n",
    "@time nb_kdd_preditions = predict(nb_kdd_model, kdd_X_test)\n",
    "nb_kdd_accuracy = accuracy_score(nb_kdd_preditions, kdd_y_test)\n",
    "println(\"Naive Bayesian Classifier Accuracy: $(round(nb_kdd_accuracy * 100, digits=1))%\")\n",
    "io = open(\"./model/nb_kdd_model.sav\", \"w\")\n",
    "pickle.dump(nb_kdd_model, io)\n",
    "close(io)"
   ]
  },
  {
   "cell_type": "code",
   "execution_count": null,
   "metadata": {
    "scrolled": true
   },
   "outputs": [],
   "source": [
    "# Decision Tree Classifier\n",
    "tree_kdd_model = DecisionTreeClassifier()\n",
    "@time fit!(tree_kdd_model, kdd_X_train, kdd_y_train)\n",
    "@time tree_kdd_predictions = predict(tree_kdd_model, kdd_X_test)\n",
    "tree_kdd_accuracy = accuracy_score(tree_kdd_predictions, kdd_y_test)\n",
    "println(\"Decision Tree Classifier Accuracy: $(round(tree_kdd_accuracy * 100, digits=1))%\")\n",
    "io = open(\"./model/tree_kdd_model.sav\", \"w\")\n",
    "pickle.dump(tree_kdd_model, io)\n",
    "close(io)"
   ]
  },
  {
   "cell_type": "code",
   "execution_count": null,
   "metadata": {},
   "outputs": [],
   "source": [
    "# Support Vector Machine\n",
    "svm_kdd_model = SVC()\n",
    "@time fit!(svm_kdd_model, madelon_X_train, madelon_y_train)\n",
    "@time svm_kdd_predictions = predict(svm_kdd_model, madelon_X_test)\n",
    "svm_kdd_accuracy = accuracy_score(svm_kdd_predictions, madelon_y_test)\n",
    "println(\"Support Vector Machine Accuracy: $(round(svm_kdd_accuracy * 100, digits=1))%\")\n",
    "io = open(\"./model/svm_kdd_model.sav\", \"w\")\n",
    "pickle.dump(svm_kdd_model, io)\n",
    "close(io)"
   ]
  },
  {
   "cell_type": "code",
   "execution_count": null,
   "metadata": {},
   "outputs": [],
   "source": [
    "# Neural Network\n",
    "nn_kdd_model = MLPClassifier(max_iter=1000)\n",
    "@time fit!(nn_kdd_model, madelon_X_train, madelon_y_train)\n",
    "@time nn_kdd_predictions = predict(nn_kdd_model, madelon_X_test)\n",
    "nn_kdd_accuracy = accuracy_score(nn_kdd_predictions, madelon_y_test)\n",
    "println(\"Neural Network Accuracy: $(round(nn_kdd_accuracy * 100, digits=1))%\")\n",
    "io = open(\"./model/nn_kdd_model.sav\", \"w\")\n",
    "pickle.dump(nn_kdd_model, io)\n",
    "close(io)"
   ]
  }
 ],
 "metadata": {
  "kernelspec": {
   "display_name": "Julia 1.5.3",
   "language": "julia",
   "name": "julia-1.5"
  },
  "language_info": {
   "file_extension": ".jl",
   "mimetype": "application/julia",
   "name": "julia",
   "version": "1.5.3"
  }
 },
 "nbformat": 4,
 "nbformat_minor": 4
}
