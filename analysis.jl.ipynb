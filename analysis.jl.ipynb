{
 "cells": [
  {
   "cell_type": "code",
   "execution_count": 2,
   "metadata": {},
   "outputs": [],
   "source": [
    "using CSV, DataFrames"
   ]
  },
  {
   "cell_type": "markdown",
   "metadata": {},
   "source": [
    "# Car Data Cleaning"
   ]
  },
  {
   "cell_type": "code",
   "execution_count": 3,
   "metadata": {},
   "outputs": [
    {
     "output_type": "execute_result",
     "data": {
      "text/plain": [
       "\u001b[1m1728×7 DataFrame\u001b[0m\n",
       "\u001b[1m  Row \u001b[0m│\u001b[1m buying \u001b[0m\u001b[1m maint  \u001b[0m\u001b[1m doors  \u001b[0m\u001b[1m persons \u001b[0m\u001b[1m lug_boot \u001b[0m\u001b[1m safety \u001b[0m\u001b[1m class  \u001b[0m\n",
       "\u001b[1m      \u001b[0m│\u001b[90m String \u001b[0m\u001b[90m String \u001b[0m\u001b[90m String \u001b[0m\u001b[90m String  \u001b[0m\u001b[90m String   \u001b[0m\u001b[90m String \u001b[0m\u001b[90m String \u001b[0m\n",
       "──────┼───────────────────────────────────────────────────────────\n",
       "    1 │ vhigh   vhigh   2       2        small     low     unacc\n",
       "    2 │ vhigh   vhigh   2       2        small     med     unacc\n",
       "    3 │ vhigh   vhigh   2       2        small     high    unacc\n",
       "    4 │ vhigh   vhigh   2       2        med       low     unacc\n",
       "    5 │ vhigh   vhigh   2       2        med       med     unacc\n",
       "    6 │ vhigh   vhigh   2       2        med       high    unacc\n",
       "    7 │ vhigh   vhigh   2       2        big       low     unacc\n",
       "    8 │ vhigh   vhigh   2       2        big       med     unacc\n",
       "    9 │ vhigh   vhigh   2       2        big       high    unacc\n",
       "   10 │ vhigh   vhigh   2       4        small     low     unacc\n",
       "   11 │ vhigh   vhigh   2       4        small     med     unacc\n",
       "  ⋮   │   ⋮       ⋮       ⋮        ⋮        ⋮        ⋮       ⋮\n",
       " 1719 │ low     low     5more   4        big       high    vgood\n",
       " 1720 │ low     low     5more   more     small     low     unacc\n",
       " 1721 │ low     low     5more   more     small     med     acc\n",
       " 1722 │ low     low     5more   more     small     high    good\n",
       " 1723 │ low     low     5more   more     med       low     unacc\n",
       " 1724 │ low     low     5more   more     med       med     good\n",
       " 1725 │ low     low     5more   more     med       high    vgood\n",
       " 1726 │ low     low     5more   more     big       low     unacc\n",
       " 1727 │ low     low     5more   more     big       med     good\n",
       " 1728 │ low     low     5more   more     big       high    vgood\n",
       "\u001b[36m                                                 1707 rows omitted\u001b[0m"
      ],
      "text/html": "<table class=\"data-frame\"><thead><tr><th></th><th>buying</th><th>maint</th><th>doors</th><th>persons</th><th>lug_boot</th><th>safety</th><th>class</th></tr><tr><th></th><th>String</th><th>String</th><th>String</th><th>String</th><th>String</th><th>String</th><th>String</th></tr></thead><tbody><p>1,728 rows × 7 columns</p><tr><th>1</th><td>vhigh</td><td>vhigh</td><td>2</td><td>2</td><td>small</td><td>low</td><td>unacc</td></tr><tr><th>2</th><td>vhigh</td><td>vhigh</td><td>2</td><td>2</td><td>small</td><td>med</td><td>unacc</td></tr><tr><th>3</th><td>vhigh</td><td>vhigh</td><td>2</td><td>2</td><td>small</td><td>high</td><td>unacc</td></tr><tr><th>4</th><td>vhigh</td><td>vhigh</td><td>2</td><td>2</td><td>med</td><td>low</td><td>unacc</td></tr><tr><th>5</th><td>vhigh</td><td>vhigh</td><td>2</td><td>2</td><td>med</td><td>med</td><td>unacc</td></tr><tr><th>6</th><td>vhigh</td><td>vhigh</td><td>2</td><td>2</td><td>med</td><td>high</td><td>unacc</td></tr><tr><th>7</th><td>vhigh</td><td>vhigh</td><td>2</td><td>2</td><td>big</td><td>low</td><td>unacc</td></tr><tr><th>8</th><td>vhigh</td><td>vhigh</td><td>2</td><td>2</td><td>big</td><td>med</td><td>unacc</td></tr><tr><th>9</th><td>vhigh</td><td>vhigh</td><td>2</td><td>2</td><td>big</td><td>high</td><td>unacc</td></tr><tr><th>10</th><td>vhigh</td><td>vhigh</td><td>2</td><td>4</td><td>small</td><td>low</td><td>unacc</td></tr><tr><th>11</th><td>vhigh</td><td>vhigh</td><td>2</td><td>4</td><td>small</td><td>med</td><td>unacc</td></tr><tr><th>12</th><td>vhigh</td><td>vhigh</td><td>2</td><td>4</td><td>small</td><td>high</td><td>unacc</td></tr><tr><th>13</th><td>vhigh</td><td>vhigh</td><td>2</td><td>4</td><td>med</td><td>low</td><td>unacc</td></tr><tr><th>14</th><td>vhigh</td><td>vhigh</td><td>2</td><td>4</td><td>med</td><td>med</td><td>unacc</td></tr><tr><th>15</th><td>vhigh</td><td>vhigh</td><td>2</td><td>4</td><td>med</td><td>high</td><td>unacc</td></tr><tr><th>16</th><td>vhigh</td><td>vhigh</td><td>2</td><td>4</td><td>big</td><td>low</td><td>unacc</td></tr><tr><th>17</th><td>vhigh</td><td>vhigh</td><td>2</td><td>4</td><td>big</td><td>med</td><td>unacc</td></tr><tr><th>18</th><td>vhigh</td><td>vhigh</td><td>2</td><td>4</td><td>big</td><td>high</td><td>unacc</td></tr><tr><th>19</th><td>vhigh</td><td>vhigh</td><td>2</td><td>more</td><td>small</td><td>low</td><td>unacc</td></tr><tr><th>20</th><td>vhigh</td><td>vhigh</td><td>2</td><td>more</td><td>small</td><td>med</td><td>unacc</td></tr><tr><th>21</th><td>vhigh</td><td>vhigh</td><td>2</td><td>more</td><td>small</td><td>high</td><td>unacc</td></tr><tr><th>22</th><td>vhigh</td><td>vhigh</td><td>2</td><td>more</td><td>med</td><td>low</td><td>unacc</td></tr><tr><th>23</th><td>vhigh</td><td>vhigh</td><td>2</td><td>more</td><td>med</td><td>med</td><td>unacc</td></tr><tr><th>24</th><td>vhigh</td><td>vhigh</td><td>2</td><td>more</td><td>med</td><td>high</td><td>unacc</td></tr><tr><th>25</th><td>vhigh</td><td>vhigh</td><td>2</td><td>more</td><td>big</td><td>low</td><td>unacc</td></tr><tr><th>26</th><td>vhigh</td><td>vhigh</td><td>2</td><td>more</td><td>big</td><td>med</td><td>unacc</td></tr><tr><th>27</th><td>vhigh</td><td>vhigh</td><td>2</td><td>more</td><td>big</td><td>high</td><td>unacc</td></tr><tr><th>28</th><td>vhigh</td><td>vhigh</td><td>3</td><td>2</td><td>small</td><td>low</td><td>unacc</td></tr><tr><th>29</th><td>vhigh</td><td>vhigh</td><td>3</td><td>2</td><td>small</td><td>med</td><td>unacc</td></tr><tr><th>30</th><td>vhigh</td><td>vhigh</td><td>3</td><td>2</td><td>small</td><td>high</td><td>unacc</td></tr><tr><th>&vellip;</th><td>&vellip;</td><td>&vellip;</td><td>&vellip;</td><td>&vellip;</td><td>&vellip;</td><td>&vellip;</td><td>&vellip;</td></tr></tbody></table>",
      "text/latex": "\\begin{tabular}{r|ccccccc}\n\t& buying & maint & doors & persons & lug\\_boot & safety & class\\\\\n\t\\hline\n\t& String & String & String & String & String & String & String\\\\\n\t\\hline\n\t1 & vhigh & vhigh & 2 & 2 & small & low & unacc \\\\\n\t2 & vhigh & vhigh & 2 & 2 & small & med & unacc \\\\\n\t3 & vhigh & vhigh & 2 & 2 & small & high & unacc \\\\\n\t4 & vhigh & vhigh & 2 & 2 & med & low & unacc \\\\\n\t5 & vhigh & vhigh & 2 & 2 & med & med & unacc \\\\\n\t6 & vhigh & vhigh & 2 & 2 & med & high & unacc \\\\\n\t7 & vhigh & vhigh & 2 & 2 & big & low & unacc \\\\\n\t8 & vhigh & vhigh & 2 & 2 & big & med & unacc \\\\\n\t9 & vhigh & vhigh & 2 & 2 & big & high & unacc \\\\\n\t10 & vhigh & vhigh & 2 & 4 & small & low & unacc \\\\\n\t11 & vhigh & vhigh & 2 & 4 & small & med & unacc \\\\\n\t12 & vhigh & vhigh & 2 & 4 & small & high & unacc \\\\\n\t13 & vhigh & vhigh & 2 & 4 & med & low & unacc \\\\\n\t14 & vhigh & vhigh & 2 & 4 & med & med & unacc \\\\\n\t15 & vhigh & vhigh & 2 & 4 & med & high & unacc \\\\\n\t16 & vhigh & vhigh & 2 & 4 & big & low & unacc \\\\\n\t17 & vhigh & vhigh & 2 & 4 & big & med & unacc \\\\\n\t18 & vhigh & vhigh & 2 & 4 & big & high & unacc \\\\\n\t19 & vhigh & vhigh & 2 & more & small & low & unacc \\\\\n\t20 & vhigh & vhigh & 2 & more & small & med & unacc \\\\\n\t21 & vhigh & vhigh & 2 & more & small & high & unacc \\\\\n\t22 & vhigh & vhigh & 2 & more & med & low & unacc \\\\\n\t23 & vhigh & vhigh & 2 & more & med & med & unacc \\\\\n\t24 & vhigh & vhigh & 2 & more & med & high & unacc \\\\\n\t25 & vhigh & vhigh & 2 & more & big & low & unacc \\\\\n\t26 & vhigh & vhigh & 2 & more & big & med & unacc \\\\\n\t27 & vhigh & vhigh & 2 & more & big & high & unacc \\\\\n\t28 & vhigh & vhigh & 3 & 2 & small & low & unacc \\\\\n\t29 & vhigh & vhigh & 3 & 2 & small & med & unacc \\\\\n\t30 & vhigh & vhigh & 3 & 2 & small & high & unacc \\\\\n\t$\\dots$ & $\\dots$ & $\\dots$ & $\\dots$ & $\\dots$ & $\\dots$ & $\\dots$ & $\\dots$ \\\\\n\\end{tabular}\n"
     },
     "metadata": {},
     "execution_count": 3
    }
   ],
   "source": [
    "# Class Values:\n",
    "\n",
    "# unacc, acc, good, vgood\n",
    "\n",
    "# Attributes:\n",
    "\n",
    "# buying: vhigh, high, med, low.\n",
    "# maint: vhigh, high, med, low.\n",
    "# doors: 2, 3, 4, 5more.\n",
    "# persons: 2, 4, more.\n",
    "# lug_boot: small, med, big.\n",
    "# safety: low, med, high.\n",
    "\n",
    "car_columns = [\"buying\", \"maint\", \"doors\", \"persons\", \"lug_boot\", \"safety\", \"class\"]\n",
    "car_options = Dict([\n",
    "    \"buying\" => Dict([\n",
    "                    \"vhigh\" => 1,\n",
    "                    \"high\" => 2,\n",
    "                    \"med\" => 3,\n",
    "                    \"low\" => 4\n",
    "                ]),\n",
    "    \"maint\" => Dict([\n",
    "                    \"vhigh\" => 1,\n",
    "                    \"high\" => 2,\n",
    "                    \"med\" => 3,\n",
    "                    \"low\" => 4\n",
    "                ]),\n",
    "    \"doors\" => Dict([\n",
    "                    \"2\" => 1,\n",
    "                    \"3\" => 2,\n",
    "                    \"4\" => 3,\n",
    "                    \"5more\" => 4\n",
    "                ]),\n",
    "    \"persons\" => Dict([\n",
    "                    \"2\" => 1, \n",
    "                    \"4\" => 2,\n",
    "                    \"more\" => 3\n",
    "                ]),\n",
    "    \"lug_boot\" => Dict([\n",
    "                    \"small\" => 1,\n",
    "                    \"med\" => 2,\n",
    "                    \"big\" => 3\n",
    "                ]),\n",
    "    \"safety\" => Dict([\n",
    "                    \"low\" => 1,\n",
    "                    \"med\" => 2,\n",
    "                    \"high\" => 3\n",
    "                ]),\n",
    "    \"class\" => Dict([\n",
    "                    \"unacc\" => 1,\n",
    "                    \"acc\" => 2,\n",
    "                    \"good\" => 3,\n",
    "                    \"vgood\" => 4\n",
    "                ])\n",
    "])\n",
    "car_data = CSV.File(\"data/car.data\", header=car_columns) |> DataFrame"
   ]
  },
  {
   "cell_type": "markdown",
   "metadata": {},
   "source": [
    "### Converting Features to Integers"
   ]
  },
  {
   "cell_type": "code",
   "execution_count": 4,
   "metadata": {
    "scrolled": false
   },
   "outputs": [
    {
     "output_type": "execute_result",
     "data": {
      "text/plain": [
       "\u001b[1m1729×7 DataFrame\u001b[0m\n",
       "\u001b[1m  Row \u001b[0m│\u001b[1m buying \u001b[0m\u001b[1m maint \u001b[0m\u001b[1m doors \u001b[0m\u001b[1m persons \u001b[0m\u001b[1m lug_boot \u001b[0m\u001b[1m safety \u001b[0m\u001b[1m class \u001b[0m\n",
       "\u001b[1m      \u001b[0m│\u001b[90m Int64  \u001b[0m\u001b[90m Int64 \u001b[0m\u001b[90m Int64 \u001b[0m\u001b[90m Int64   \u001b[0m\u001b[90m Int64    \u001b[0m\u001b[90m Int64  \u001b[0m\u001b[90m Int64 \u001b[0m\n",
       "──────┼────────────────────────────────────────────────────────\n",
       "    1 │      1      1      1        1         1       1      1\n",
       "    2 │      1      1      1        1         1       2      1\n",
       "    3 │      1      1      1        1         1       3      1\n",
       "    4 │      1      1      1        1         2       1      1\n",
       "    5 │      1      1      1        1         2       2      1\n",
       "    6 │      1      1      1        1         2       3      1\n",
       "    7 │      1      1      1        1         3       1      1\n",
       "    8 │      1      1      1        1         3       2      1\n",
       "    9 │      1      1      1        1         3       3      1\n",
       "   10 │      1      1      1        2         1       1      1\n",
       "   11 │      1      1      1        2         1       2      1\n",
       "  ⋮   │   ⋮       ⋮      ⋮       ⋮        ⋮        ⋮       ⋮\n",
       " 1720 │      4      4      4        3         1       1      1\n",
       " 1721 │      4      4      4        3         1       2      2\n",
       " 1722 │      4      4      4        3         1       3      3\n",
       " 1723 │      4      4      4        3         2       1      1\n",
       " 1724 │      4      4      4        3         2       2      3\n",
       " 1725 │      4      4      4        3         2       3      4\n",
       " 1726 │      4      4      4        3         3       1      1\n",
       " 1727 │      4      4      4        3         3       2      3\n",
       " 1728 │      4      4      4        3         3       3      4\n",
       " 1729 │      0      0      0        0         0       0      0\n",
       "\u001b[36m                                              1708 rows omitted\u001b[0m"
      ],
      "text/html": "<table class=\"data-frame\"><thead><tr><th></th><th>buying</th><th>maint</th><th>doors</th><th>persons</th><th>lug_boot</th><th>safety</th><th>class</th></tr><tr><th></th><th>Int64</th><th>Int64</th><th>Int64</th><th>Int64</th><th>Int64</th><th>Int64</th><th>Int64</th></tr></thead><tbody><p>1,729 rows × 7 columns</p><tr><th>1</th><td>1</td><td>1</td><td>1</td><td>1</td><td>1</td><td>1</td><td>1</td></tr><tr><th>2</th><td>1</td><td>1</td><td>1</td><td>1</td><td>1</td><td>2</td><td>1</td></tr><tr><th>3</th><td>1</td><td>1</td><td>1</td><td>1</td><td>1</td><td>3</td><td>1</td></tr><tr><th>4</th><td>1</td><td>1</td><td>1</td><td>1</td><td>2</td><td>1</td><td>1</td></tr><tr><th>5</th><td>1</td><td>1</td><td>1</td><td>1</td><td>2</td><td>2</td><td>1</td></tr><tr><th>6</th><td>1</td><td>1</td><td>1</td><td>1</td><td>2</td><td>3</td><td>1</td></tr><tr><th>7</th><td>1</td><td>1</td><td>1</td><td>1</td><td>3</td><td>1</td><td>1</td></tr><tr><th>8</th><td>1</td><td>1</td><td>1</td><td>1</td><td>3</td><td>2</td><td>1</td></tr><tr><th>9</th><td>1</td><td>1</td><td>1</td><td>1</td><td>3</td><td>3</td><td>1</td></tr><tr><th>10</th><td>1</td><td>1</td><td>1</td><td>2</td><td>1</td><td>1</td><td>1</td></tr><tr><th>11</th><td>1</td><td>1</td><td>1</td><td>2</td><td>1</td><td>2</td><td>1</td></tr><tr><th>12</th><td>1</td><td>1</td><td>1</td><td>2</td><td>1</td><td>3</td><td>1</td></tr><tr><th>13</th><td>1</td><td>1</td><td>1</td><td>2</td><td>2</td><td>1</td><td>1</td></tr><tr><th>14</th><td>1</td><td>1</td><td>1</td><td>2</td><td>2</td><td>2</td><td>1</td></tr><tr><th>15</th><td>1</td><td>1</td><td>1</td><td>2</td><td>2</td><td>3</td><td>1</td></tr><tr><th>16</th><td>1</td><td>1</td><td>1</td><td>2</td><td>3</td><td>1</td><td>1</td></tr><tr><th>17</th><td>1</td><td>1</td><td>1</td><td>2</td><td>3</td><td>2</td><td>1</td></tr><tr><th>18</th><td>1</td><td>1</td><td>1</td><td>2</td><td>3</td><td>3</td><td>1</td></tr><tr><th>19</th><td>1</td><td>1</td><td>1</td><td>3</td><td>1</td><td>1</td><td>1</td></tr><tr><th>20</th><td>1</td><td>1</td><td>1</td><td>3</td><td>1</td><td>2</td><td>1</td></tr><tr><th>21</th><td>1</td><td>1</td><td>1</td><td>3</td><td>1</td><td>3</td><td>1</td></tr><tr><th>22</th><td>1</td><td>1</td><td>1</td><td>3</td><td>2</td><td>1</td><td>1</td></tr><tr><th>23</th><td>1</td><td>1</td><td>1</td><td>3</td><td>2</td><td>2</td><td>1</td></tr><tr><th>24</th><td>1</td><td>1</td><td>1</td><td>3</td><td>2</td><td>3</td><td>1</td></tr><tr><th>25</th><td>1</td><td>1</td><td>1</td><td>3</td><td>3</td><td>1</td><td>1</td></tr><tr><th>26</th><td>1</td><td>1</td><td>1</td><td>3</td><td>3</td><td>2</td><td>1</td></tr><tr><th>27</th><td>1</td><td>1</td><td>1</td><td>3</td><td>3</td><td>3</td><td>1</td></tr><tr><th>28</th><td>1</td><td>1</td><td>2</td><td>1</td><td>1</td><td>1</td><td>1</td></tr><tr><th>29</th><td>1</td><td>1</td><td>2</td><td>1</td><td>1</td><td>2</td><td>1</td></tr><tr><th>30</th><td>1</td><td>1</td><td>2</td><td>1</td><td>1</td><td>3</td><td>1</td></tr><tr><th>&vellip;</th><td>&vellip;</td><td>&vellip;</td><td>&vellip;</td><td>&vellip;</td><td>&vellip;</td><td>&vellip;</td><td>&vellip;</td></tr></tbody></table>",
      "text/latex": "\\begin{tabular}{r|ccccccc}\n\t& buying & maint & doors & persons & lug\\_boot & safety & class\\\\\n\t\\hline\n\t& Int64 & Int64 & Int64 & Int64 & Int64 & Int64 & Int64\\\\\n\t\\hline\n\t1 & 1 & 1 & 1 & 1 & 1 & 1 & 1 \\\\\n\t2 & 1 & 1 & 1 & 1 & 1 & 2 & 1 \\\\\n\t3 & 1 & 1 & 1 & 1 & 1 & 3 & 1 \\\\\n\t4 & 1 & 1 & 1 & 1 & 2 & 1 & 1 \\\\\n\t5 & 1 & 1 & 1 & 1 & 2 & 2 & 1 \\\\\n\t6 & 1 & 1 & 1 & 1 & 2 & 3 & 1 \\\\\n\t7 & 1 & 1 & 1 & 1 & 3 & 1 & 1 \\\\\n\t8 & 1 & 1 & 1 & 1 & 3 & 2 & 1 \\\\\n\t9 & 1 & 1 & 1 & 1 & 3 & 3 & 1 \\\\\n\t10 & 1 & 1 & 1 & 2 & 1 & 1 & 1 \\\\\n\t11 & 1 & 1 & 1 & 2 & 1 & 2 & 1 \\\\\n\t12 & 1 & 1 & 1 & 2 & 1 & 3 & 1 \\\\\n\t13 & 1 & 1 & 1 & 2 & 2 & 1 & 1 \\\\\n\t14 & 1 & 1 & 1 & 2 & 2 & 2 & 1 \\\\\n\t15 & 1 & 1 & 1 & 2 & 2 & 3 & 1 \\\\\n\t16 & 1 & 1 & 1 & 2 & 3 & 1 & 1 \\\\\n\t17 & 1 & 1 & 1 & 2 & 3 & 2 & 1 \\\\\n\t18 & 1 & 1 & 1 & 2 & 3 & 3 & 1 \\\\\n\t19 & 1 & 1 & 1 & 3 & 1 & 1 & 1 \\\\\n\t20 & 1 & 1 & 1 & 3 & 1 & 2 & 1 \\\\\n\t21 & 1 & 1 & 1 & 3 & 1 & 3 & 1 \\\\\n\t22 & 1 & 1 & 1 & 3 & 2 & 1 & 1 \\\\\n\t23 & 1 & 1 & 1 & 3 & 2 & 2 & 1 \\\\\n\t24 & 1 & 1 & 1 & 3 & 2 & 3 & 1 \\\\\n\t25 & 1 & 1 & 1 & 3 & 3 & 1 & 1 \\\\\n\t26 & 1 & 1 & 1 & 3 & 3 & 2 & 1 \\\\\n\t27 & 1 & 1 & 1 & 3 & 3 & 3 & 1 \\\\\n\t28 & 1 & 1 & 2 & 1 & 1 & 1 & 1 \\\\\n\t29 & 1 & 1 & 2 & 1 & 1 & 2 & 1 \\\\\n\t30 & 1 & 1 & 2 & 1 & 1 & 3 & 1 \\\\\n\t$\\dots$ & $\\dots$ & $\\dots$ & $\\dots$ & $\\dots$ & $\\dots$ & $\\dots$ & $\\dots$ \\\\\n\\end{tabular}\n"
     },
     "metadata": {},
     "execution_count": 4
    }
   ],
   "source": [
    "car_data_numeric = DataFrame(buying=0,maint=0,doors=0,persons=0,lug_boot=0,safety=0,class=0)\n",
    "row_index = 1\n",
    "for row in eachrow(car_data)\n",
    "    push!(car_data_numeric, zeros(7))\n",
    "    for col in car_columns\n",
    "        car_data_numeric[row_index, col] = car_options[col][row[col]]\n",
    "    end\n",
    "    row_index += 1\n",
    "end\n",
    "car_data_numeric"
   ]
  },
  {
   "cell_type": "markdown",
   "metadata": {},
   "source": [
    "### Partitioning Data into Training & Testing Data\n",
    "Currently using a 70-30 split."
   ]
  },
  {
   "cell_type": "code",
   "execution_count": 5,
   "metadata": {},
   "outputs": [],
   "source": [
    "using Random"
   ]
  },
  {
   "cell_type": "code",
   "execution_count": 6,
   "metadata": {},
   "outputs": [
    {
     "output_type": "execute_result",
     "data": {
      "text/plain": [
       "\u001b[1m478×7 DataFrame\u001b[0m\n",
       "\u001b[1m Row \u001b[0m│\u001b[1m buying \u001b[0m\u001b[1m maint \u001b[0m\u001b[1m doors \u001b[0m\u001b[1m persons \u001b[0m\u001b[1m lug_boot \u001b[0m\u001b[1m safety \u001b[0m\u001b[1m class \u001b[0m\n",
       "\u001b[1m     \u001b[0m│\u001b[90m Int64  \u001b[0m\u001b[90m Int64 \u001b[0m\u001b[90m Int64 \u001b[0m\u001b[90m Int64   \u001b[0m\u001b[90m Int64    \u001b[0m\u001b[90m Int64  \u001b[0m\u001b[90m Int64 \u001b[0m\n",
       "─────┼────────────────────────────────────────────────────────\n",
       "   1 │      1      1      1        1         1       3      1\n",
       "   2 │      1      1      1        1         2       2      1\n",
       "   3 │      1      1      1        1         3       2      1\n",
       "   4 │      1      1      1        2         1       1      1\n",
       "   5 │      1      1      1        3         3       3      1\n",
       "   6 │      1      1      2        1         1       1      1\n",
       "   7 │      1      1      2        1         1       2      1\n",
       "   8 │      1      1      2        1         2       1      1\n",
       "   9 │      1      1      2        1         2       2      1\n",
       "  10 │      1      1      2        1         3       2      1\n",
       "  11 │      1      1      2        2         2       3      1\n",
       "  ⋮  │   ⋮       ⋮      ⋮       ⋮        ⋮        ⋮       ⋮\n",
       " 469 │      4      4      3        2         1       1      1\n",
       " 470 │      4      4      3        2         2       2      3\n",
       " 471 │      4      4      3        3         3       1      1\n",
       " 472 │      4      4      3        3         3       2      3\n",
       " 473 │      4      4      4        1         2       1      1\n",
       " 474 │      4      4      4        1         3       2      1\n",
       " 475 │      4      4      4        2         3       3      4\n",
       " 476 │      4      4      4        3         2       1      1\n",
       " 477 │      4      4      4        3         3       2      3\n",
       " 478 │      4      4      4        3         3       3      4\n",
       "\u001b[36m                                              457 rows omitted\u001b[0m"
      ],
      "text/html": "<table class=\"data-frame\"><thead><tr><th></th><th>buying</th><th>maint</th><th>doors</th><th>persons</th><th>lug_boot</th><th>safety</th><th>class</th></tr><tr><th></th><th>Int64</th><th>Int64</th><th>Int64</th><th>Int64</th><th>Int64</th><th>Int64</th><th>Int64</th></tr></thead><tbody><p>478 rows × 7 columns</p><tr><th>1</th><td>1</td><td>1</td><td>1</td><td>1</td><td>1</td><td>3</td><td>1</td></tr><tr><th>2</th><td>1</td><td>1</td><td>1</td><td>1</td><td>2</td><td>2</td><td>1</td></tr><tr><th>3</th><td>1</td><td>1</td><td>1</td><td>1</td><td>3</td><td>2</td><td>1</td></tr><tr><th>4</th><td>1</td><td>1</td><td>1</td><td>2</td><td>1</td><td>1</td><td>1</td></tr><tr><th>5</th><td>1</td><td>1</td><td>1</td><td>3</td><td>3</td><td>3</td><td>1</td></tr><tr><th>6</th><td>1</td><td>1</td><td>2</td><td>1</td><td>1</td><td>1</td><td>1</td></tr><tr><th>7</th><td>1</td><td>1</td><td>2</td><td>1</td><td>1</td><td>2</td><td>1</td></tr><tr><th>8</th><td>1</td><td>1</td><td>2</td><td>1</td><td>2</td><td>1</td><td>1</td></tr><tr><th>9</th><td>1</td><td>1</td><td>2</td><td>1</td><td>2</td><td>2</td><td>1</td></tr><tr><th>10</th><td>1</td><td>1</td><td>2</td><td>1</td><td>3</td><td>2</td><td>1</td></tr><tr><th>11</th><td>1</td><td>1</td><td>2</td><td>2</td><td>2</td><td>3</td><td>1</td></tr><tr><th>12</th><td>1</td><td>1</td><td>2</td><td>3</td><td>1</td><td>1</td><td>1</td></tr><tr><th>13</th><td>1</td><td>1</td><td>2</td><td>3</td><td>1</td><td>2</td><td>1</td></tr><tr><th>14</th><td>1</td><td>1</td><td>2</td><td>3</td><td>2</td><td>2</td><td>1</td></tr><tr><th>15</th><td>1</td><td>1</td><td>2</td><td>3</td><td>2</td><td>3</td><td>1</td></tr><tr><th>16</th><td>1</td><td>1</td><td>3</td><td>1</td><td>2</td><td>2</td><td>1</td></tr><tr><th>17</th><td>1</td><td>1</td><td>3</td><td>1</td><td>3</td><td>1</td><td>1</td></tr><tr><th>18</th><td>1</td><td>1</td><td>3</td><td>2</td><td>1</td><td>3</td><td>1</td></tr><tr><th>19</th><td>1</td><td>1</td><td>3</td><td>2</td><td>3</td><td>3</td><td>1</td></tr><tr><th>20</th><td>1</td><td>1</td><td>3</td><td>3</td><td>1</td><td>2</td><td>1</td></tr><tr><th>21</th><td>1</td><td>1</td><td>4</td><td>1</td><td>3</td><td>2</td><td>1</td></tr><tr><th>22</th><td>1</td><td>1</td><td>4</td><td>2</td><td>3</td><td>3</td><td>1</td></tr><tr><th>23</th><td>1</td><td>1</td><td>4</td><td>3</td><td>1</td><td>2</td><td>1</td></tr><tr><th>24</th><td>1</td><td>1</td><td>4</td><td>3</td><td>1</td><td>3</td><td>1</td></tr><tr><th>25</th><td>1</td><td>1</td><td>4</td><td>3</td><td>2</td><td>1</td><td>1</td></tr><tr><th>26</th><td>1</td><td>1</td><td>4</td><td>3</td><td>3</td><td>3</td><td>1</td></tr><tr><th>27</th><td>1</td><td>2</td><td>1</td><td>1</td><td>1</td><td>2</td><td>1</td></tr><tr><th>28</th><td>1</td><td>2</td><td>1</td><td>1</td><td>3</td><td>2</td><td>1</td></tr><tr><th>29</th><td>1</td><td>2</td><td>1</td><td>2</td><td>1</td><td>2</td><td>1</td></tr><tr><th>30</th><td>1</td><td>2</td><td>1</td><td>2</td><td>2</td><td>1</td><td>1</td></tr><tr><th>&vellip;</th><td>&vellip;</td><td>&vellip;</td><td>&vellip;</td><td>&vellip;</td><td>&vellip;</td><td>&vellip;</td><td>&vellip;</td></tr></tbody></table>",
      "text/latex": "\\begin{tabular}{r|ccccccc}\n\t& buying & maint & doors & persons & lug\\_boot & safety & class\\\\\n\t\\hline\n\t& Int64 & Int64 & Int64 & Int64 & Int64 & Int64 & Int64\\\\\n\t\\hline\n\t1 & 1 & 1 & 1 & 1 & 1 & 3 & 1 \\\\\n\t2 & 1 & 1 & 1 & 1 & 2 & 2 & 1 \\\\\n\t3 & 1 & 1 & 1 & 1 & 3 & 2 & 1 \\\\\n\t4 & 1 & 1 & 1 & 2 & 1 & 1 & 1 \\\\\n\t5 & 1 & 1 & 1 & 3 & 3 & 3 & 1 \\\\\n\t6 & 1 & 1 & 2 & 1 & 1 & 1 & 1 \\\\\n\t7 & 1 & 1 & 2 & 1 & 1 & 2 & 1 \\\\\n\t8 & 1 & 1 & 2 & 1 & 2 & 1 & 1 \\\\\n\t9 & 1 & 1 & 2 & 1 & 2 & 2 & 1 \\\\\n\t10 & 1 & 1 & 2 & 1 & 3 & 2 & 1 \\\\\n\t11 & 1 & 1 & 2 & 2 & 2 & 3 & 1 \\\\\n\t12 & 1 & 1 & 2 & 3 & 1 & 1 & 1 \\\\\n\t13 & 1 & 1 & 2 & 3 & 1 & 2 & 1 \\\\\n\t14 & 1 & 1 & 2 & 3 & 2 & 2 & 1 \\\\\n\t15 & 1 & 1 & 2 & 3 & 2 & 3 & 1 \\\\\n\t16 & 1 & 1 & 3 & 1 & 2 & 2 & 1 \\\\\n\t17 & 1 & 1 & 3 & 1 & 3 & 1 & 1 \\\\\n\t18 & 1 & 1 & 3 & 2 & 1 & 3 & 1 \\\\\n\t19 & 1 & 1 & 3 & 2 & 3 & 3 & 1 \\\\\n\t20 & 1 & 1 & 3 & 3 & 1 & 2 & 1 \\\\\n\t21 & 1 & 1 & 4 & 1 & 3 & 2 & 1 \\\\\n\t22 & 1 & 1 & 4 & 2 & 3 & 3 & 1 \\\\\n\t23 & 1 & 1 & 4 & 3 & 1 & 2 & 1 \\\\\n\t24 & 1 & 1 & 4 & 3 & 1 & 3 & 1 \\\\\n\t25 & 1 & 1 & 4 & 3 & 2 & 1 & 1 \\\\\n\t26 & 1 & 1 & 4 & 3 & 3 & 3 & 1 \\\\\n\t27 & 1 & 2 & 1 & 1 & 1 & 2 & 1 \\\\\n\t28 & 1 & 2 & 1 & 1 & 3 & 2 & 1 \\\\\n\t29 & 1 & 2 & 1 & 2 & 1 & 2 & 1 \\\\\n\t30 & 1 & 2 & 1 & 2 & 2 & 1 & 1 \\\\\n\t$\\dots$ & $\\dots$ & $\\dots$ & $\\dots$ & $\\dots$ & $\\dots$ & $\\dots$ & $\\dots$ \\\\\n\\end{tabular}\n"
     },
     "metadata": {},
     "execution_count": 6
    }
   ],
   "source": [
    "sample = randsubseq(1:size(car_data_numeric,1), 0.7)\n",
    "train = car_data_numeric[sample, :]\n",
    "notsample = [i for i in 1:size(car_data_numeric,1) if isempty(searchsorted(sample, i))]\n",
    "test = car_data_numeric[notsample, :]"
   ]
  },
  {
   "cell_type": "code",
   "execution_count": 15,
   "metadata": {},
   "outputs": [
    {
     "name": "stdout",
     "output_type": "stream",
     "text": [
      "Accuracy: 93.33%\n"
     ]
    }
   ],
   "source": [
    "using RDatasets, LIBSVM\n",
    "using StatsBase, Printf # `mean` and `printf` are no longer in Base, and should be used explicitly\n",
    "\n",
    "# Load Fisher's classic iris data\n",
    "iris = dataset(\"datasets\", \"iris\")\n",
    "\n",
    "# LIBSVM handles multi-class data automatically using a one-against-one strategy\n",
    "labels = string.(convert(Vector, iris[!,:Species]))\n",
    "\n",
    "# First dimension of input data is features; second is instances\n",
    "instances = convert(Array, iris[:, 1:4])'\n",
    "\n",
    "# Train SVM on half of the data using default parameters. See documentation\n",
    "# of svmtrain for options\n",
    "model = svmtrain(instances[:, 1:2:end], labels[1:2:end]);\n",
    "\n",
    "# Test model on the other half of the data.\n",
    "(predicted_labels, decision_values) = svmpredict(model, instances[:, 2:2:end]);\n",
    "\n",
    "# Compute accuracy\n",
    "@printf \"Accuracy: %.2f%%\\n\" mean((predicted_labels .== labels[2:2:end]))*100"
   ]
  },
  {
   "cell_type": "code",
   "execution_count": null,
   "metadata": {},
   "outputs": [],
   "source": []
  }
 ],
 "metadata": {
  "kernelspec": {
   "display_name": "Julia 1.5.3",
   "language": "julia",
   "name": "julia-1.5"
  },
  "language_info": {
   "file_extension": ".jl",
   "mimetype": "application/julia",
   "name": "julia",
   "version": "1.5.3"
  }
 },
 "nbformat": 4,
 "nbformat_minor": 4
}